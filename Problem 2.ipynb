{
 "cells": [
  {
   "cell_type": "code",
   "execution_count": 1,
   "metadata": {
    "collapsed": true
   },
   "outputs": [],
   "source": [
    "import numpy as np\n",
    "import pandas as pd\n",
    "import sklearn as sk\n",
    "import matplotlib.pyplot as plt\n",
    "%matplotlib inline"
   ]
  },
  {
   "cell_type": "code",
   "execution_count": 17,
   "metadata": {},
   "outputs": [
    {
     "data": {
      "text/plain": [
       "(array([  1.,   0.,   0.,   1.,   0.,   1.,   1.,   0.,   0.,   0.,   0.,\n",
       "          1.,   2.,   0.,   3.,   3.,   1.,   3.,   0.,   7.,   7.,   2.,\n",
       "          0.,   5.,   6.,   4.,  10.,   0.,  19.,  12.,  23.,   0.,   8.,\n",
       "         24.,  18.,  15.,   0.,  19.,  24.,  18.,   0.,  22.,  27.,  36.,\n",
       "         39.,   0.,  36.,  35.,  33.,   0.,  42.,  34.,  38.,  27.,   0.,\n",
       "         38.,  38.,  34.,  24.,   0.,  33.,  24.,  36.,   0.,  27.,  20.,\n",
       "         16.,  20.,   0.,  13.,   6.,   9.,   0.,  15.,   7.,   2.,   8.,\n",
       "          0.,   1.,   6.,   3.,   0.,   1.,   4.,   1.,   2.,   0.,   1.,\n",
       "          1.,   1.,   0.,   1.,   0.,   0.,   0.,   0.,   0.,   0.,   0.,\n",
       "          1.]),\n",
       " array([-0.156  , -0.15288, -0.14976, -0.14664, -0.14352, -0.1404 ,\n",
       "        -0.13728, -0.13416, -0.13104, -0.12792, -0.1248 , -0.12168,\n",
       "        -0.11856, -0.11544, -0.11232, -0.1092 , -0.10608, -0.10296,\n",
       "        -0.09984, -0.09672, -0.0936 , -0.09048, -0.08736, -0.08424,\n",
       "        -0.08112, -0.078  , -0.07488, -0.07176, -0.06864, -0.06552,\n",
       "        -0.0624 , -0.05928, -0.05616, -0.05304, -0.04992, -0.0468 ,\n",
       "        -0.04368, -0.04056, -0.03744, -0.03432, -0.0312 , -0.02808,\n",
       "        -0.02496, -0.02184, -0.01872, -0.0156 , -0.01248, -0.00936,\n",
       "        -0.00624, -0.00312,  0.     ,  0.00312,  0.00624,  0.00936,\n",
       "         0.01248,  0.0156 ,  0.01872,  0.02184,  0.02496,  0.02808,\n",
       "         0.0312 ,  0.03432,  0.03744,  0.04056,  0.04368,  0.0468 ,\n",
       "         0.04992,  0.05304,  0.05616,  0.05928,  0.0624 ,  0.06552,\n",
       "         0.06864,  0.07176,  0.07488,  0.078  ,  0.08112,  0.08424,\n",
       "         0.08736,  0.09048,  0.0936 ,  0.09672,  0.09984,  0.10296,\n",
       "         0.10608,  0.1092 ,  0.11232,  0.11544,  0.11856,  0.12168,\n",
       "         0.1248 ,  0.12792,  0.13104,  0.13416,  0.13728,  0.1404 ,\n",
       "         0.14352,  0.14664,  0.14976,  0.15288,  0.156  ]),\n",
       " <a list of 100 Patch objects>)"
      ]
     },
     "execution_count": 17,
     "metadata": {},
     "output_type": "execute_result"
    },
    {
     "data": {
      "image/png": "[encoded data removed]",
      "text/plain": [
       "<matplotlib.figure.Figure at 0x119a47590>"
      ]
     },
     "metadata": {},
     "output_type": "display_data"
    },
    {
     "data": {
      "image/png": "[encoded data removed]",
      "text/plain": [
       "<matplotlib.figure.Figure at 0x119a475d0>"
      ]
     },
     "metadata": {},
     "output_type": "display_data"
    },
    {
     "data": {
      "image/png": "[encoded data removed]",
      "text/plain": [
       "<matplotlib.figure.Figure at 0x1198b3390>"
      ]
     },
     "metadata": {},
     "output_type": "display_data"
    },
    {
     "data": {
      "image/png": "[encoded data removed]",
      "text/plain": [
       "<matplotlib.figure.Figure at 0x119593250>"
      ]
     },
     "metadata": {},
     "output_type": "display_data"
    }
   ],
   "source": [
    "def Z(n):\n",
    "    return sum([-1 if (x==0) else 1 for x in np.random.binomial(1, 0.5, n)]) / float(n)\n",
    "\n",
    "list = [Z(5) for i in range (1000)];\n",
    "plt.hist(list)\n",
    "plt.figure()\n",
    "\n",
    "list = [Z(50) for i in range(1000)]\n",
    "plt.hist(list, bins=10, range=[-1,1])\n",
    "plt.figure()\n",
    "\n",
    "list = [Z(250) for i in range(1000)]\n",
    "plt.hist(list, bins=50)\n",
    "plt.figure()\n",
    "\n",
    "list = [Z(500) for i in range(1000)]\n",
    "plt.hist(list, bins=100)"
   ]
  },
  {
   "cell_type": "code",
   "execution_count": null,
   "metadata": {
    "collapsed": true
   },
   "outputs": [],
   "source": []
  },
  {
   "cell_type": "code",
   "execution_count": null,
   "metadata": {
    "collapsed": true
   },
   "outputs": [],
   "source": []
  },
  {
   "cell_type": "code",
   "execution_count": null,
   "metadata": {
    "collapsed": true
   },
   "outputs": [],
   "source": []
  },
  {
   "cell_type": "code",
   "execution_count": null,
   "metadata": {
    "collapsed": true
   },
   "outputs": [],
   "source": []
  },
  {
   "cell_type": "code",
   "execution_count": null,
   "metadata": {
    "collapsed": true
   },
   "outputs": [],
   "source": []
  }
 ],
 "metadata": {
  "kernelspec": {
   "display_name": "Python 2",
   "language": "python",
   "name": "python2"
  },
  "language_info": {
   "codemirror_mode": {
    "name": "ipython",
    "version": 2
   },
   "file_extension": ".py",
   "mimetype": "text/x-python",
   "name": "python",
   "nbconvert_exporter": "python",
   "pygments_lexer": "ipython2",
   "version": "2.7.13"
  }
 },
 "nbformat": 4,
 "nbformat_minor": 2
}
