{
 "cells": [
  {
   "cell_type": "markdown",
   "metadata": {},
   "source": [
    "# LAB 1"
   ]
  },
  {
   "cell_type": "markdown",
   "metadata": {},
   "source": [
    "Dhruv Verma  dv7229"
   ]
  },
  {
   "cell_type": "markdown",
   "metadata": {},
   "source": [
    "Mehtaab Brar msb2938"
   ]
  },
  {
   "cell_type": "code",
   "execution_count": 1,
   "metadata": {
    "collapsed": true
   },
   "outputs": [],
   "source": [
    "import numpy as np\n",
    "import pandas as pd\n",
    "import matplotlib.pyplot as plt\n",
    "%matplotlib inline"
   ]
  },
  {
   "cell_type": "markdown",
   "metadata": {},
   "source": [
    "## Question 1"
   ]
  },
  {
   "cell_type": "code",
   "execution_count": 2,
   "metadata": {
    "collapsed": true
   },
   "outputs": [],
   "source": [
    "x = np.random.normal(-10,5,1000)"
   ]
  },
  {
   "cell_type": "code",
   "execution_count": 3,
   "metadata": {
    "collapsed": true
   },
   "outputs": [],
   "source": [
    "y = np.random.normal(10,5,1000)"
   ]
  },
  {
   "cell_type": "code",
   "execution_count": 4,
   "metadata": {
    "collapsed": true
   },
   "outputs": [],
   "source": [
    "sum = x+y"
   ]
  },
  {
   "cell_type": "code",
   "execution_count": 5,
   "metadata": {},
   "outputs": [
    {
     "data": {
      "text/plain": [
       "(array([  1.,   0.,   0.,   0.,   0.,   0.,   0.,   0.,   0.,   0.,   0.,\n",
       "          1.,   0.,   0.,   0.,   0.,   0.,   0.,   0.,   0.,   0.,   0.,\n",
       "          0.,   1.,   0.,   0.,   0.,   0.,   0.,   0.,   0.,   0.,   0.,\n",
       "          0.,   0.,   0.,   0.,   0.,   2.,   0.,   1.,   0.,   0.,   1.,\n",
       "          1.,   1.,   0.,   0.,   0.,   3.,   0.,   0.,   0.,   0.,   0.,\n",
       "          0.,   0.,   0.,   0.,   0.,   0.,   0.,   0.,   1.,   0.,   0.,\n",
       "          0.,   0.,   0.,   2.,   0.,   1.,   1.,   1.,   0.,   1.,   1.,\n",
       "          0.,   1.,   0.,   0.,   2.,   0.,   0.,   1.,   0.,   0.,   2.,\n",
       "          1.,   1.,   0.,   1.,   0.,   1.,   1.,   1.,   0.,   2.,   0.,\n",
       "          2.,   0.,   0.,   3.,   3.,   0.,   2.,   2.,   0.,   1.,   1.,\n",
       "          0.,   0.,   0.,   0.,   1.,   0.,   2.,   1.,   2.,   0.,   0.,\n",
       "          3.,   3.,   1.,   2.,   3.,   1.,   2.,   1.,   2.,   2.,   0.,\n",
       "          1.,   2.,   3.,   0.,   2.,   1.,   1.,   1.,   4.,   0.,   1.,\n",
       "          2.,   3.,   3.,   2.,   2.,   3.,   3.,   1.,   2.,   3.,   7.,\n",
       "          3.,   3.,   2.,   6.,   3.,   4.,   2.,   5.,   0.,   3.,   1.,\n",
       "          2.,   4.,   6.,   1.,   3.,   2.,   3.,   4.,   5.,   3.,   1.,\n",
       "          4.,   3.,   4.,   3.,   2.,   4.,   2.,   5.,   6.,   7.,   4.,\n",
       "          4.,   6.,   8.,   3.,   3.,   1.,   4.,   3.,   3.,   8.,   4.,\n",
       "          3.,   5.,   4.,   3.,   2.,   6.,   6.,   9.,   5.,   7.,   2.,\n",
       "          9.,   3.,   5.,   4.,   2.,   6.,   6.,   7.,   3.,   1.,   2.,\n",
       "          7.,   6.,   5.,   4.,   6.,   2.,   7.,   4.,   4.,   2.,   1.,\n",
       "          6.,   6.,   5.,   2.,  11.,   6.,   3.,   3.,   3.,   2.,   5.,\n",
       "          7.,   1.,   3.,   5.,   3.,   3.,   5.,   3.,  10.,   4.,  12.,\n",
       "          8.,  11.,   2.,   5.,   9.,   7.,   7.,   5.,   6.,   4.,   8.,\n",
       "          5.,   8.,   3.,   2.,   2.,   1.,   4.,   6.,   1.,   3.,   4.,\n",
       "          5.,   5.,   3.,   3.,  10.,   4.,   4.,   3.,   5.,   5.,   7.,\n",
       "          1.,   4.,   6.,   9.,   5.,   4.,   5.,   4.,   1.,   3.,   5.,\n",
       "          5.,   7.,   5.,   5.,   3.,   2.,   3.,   4.,   5.,   4.,  11.,\n",
       "          0.,   2.,   5.,   2.,   2.,   2.,   2.,   7.,   2.,   5.,   3.,\n",
       "          5.,   2.,   4.,   6.,   3.,   2.,   4.,   1.,   3.,   2.,   3.,\n",
       "          4.,   1.,   3.,   3.,   2.,   3.,   2.,   2.,   3.,   2.,   2.,\n",
       "          0.,   2.,   4.,   4.,   2.,   2.,   1.,   1.,   0.,   3.,   3.,\n",
       "          3.,   1.,   3.,   2.,   3.,   3.,   0.,   0.,   4.,   2.,   0.,\n",
       "          1.,   1.,   5.,   1.,   3.,   1.,   2.,   1.,   1.,   1.,   1.,\n",
       "          2.,   1.,   1.,   2.,   1.,   1.,   1.,   2.,   1.,   0.,   1.,\n",
       "          0.,   2.,   1.,   1.,   0.,   1.,   1.,   1.,   1.,   0.,   0.,\n",
       "          0.,   1.,   1.,   2.,   3.,   2.,   0.,   1.,   0.,   0.,   1.,\n",
       "          0.,   0.,   1.,   2.,   0.,   0.,   0.,   0.,   0.,   1.,   0.,\n",
       "          0.,   0.,   0.,   2.,   0.,   0.,   0.,   0.,   0.,   0.,   1.,\n",
       "          0.,   1.,   0.,   0.,   0.,   0.,   0.,   0.,   0.,   0.,   0.,\n",
       "          0.,   0.,   0.,   0.,   0.,   0.,   0.,   0.,   0.,   0.,   0.,\n",
       "          0.,   0.,   2.,   0.,   0.,   0.,   0.,   0.,   1.,   0.,   0.,\n",
       "          0.,   0.,   0.,   0.,   0.,   0.,   0.,   0.,   0.,   0.,   0.,\n",
       "          0.,   0.,   0.,   0.,   0.,   0.,   1.,   0.,   0.,   0.,   0.,\n",
       "          0.,   0.,   0.,   0.,   0.,   0.,   0.,   0.,   0.,   0.,   0.,\n",
       "          0.,   0.,   0.,   0.,   1.]),\n",
       " array([ -2.18584304e+01,  -2.17696511e+01,  -2.16808718e+01,\n",
       "         -2.15920925e+01,  -2.15033132e+01,  -2.14145339e+01,\n",
       "         -2.13257546e+01,  -2.12369753e+01,  -2.11481960e+01,\n",
       "         -2.10594167e+01,  -2.09706374e+01,  -2.08818581e+01,\n",
       "         -2.07930788e+01,  -2.07042995e+01,  -2.06155202e+01,\n",
       "         -2.05267410e+01,  -2.04379617e+01,  -2.03491824e+01,\n",
       "         -2.02604031e+01,  -2.01716238e+01,  -2.00828445e+01,\n",
       "         -1.99940652e+01,  -1.99052859e+01,  -1.98165066e+01,\n",
       "         -1.97277273e+01,  -1.96389480e+01,  -1.95501687e+01,\n",
       "         -1.94613894e+01,  -1.93726101e+01,  -1.92838308e+01,\n",
       "         -1.91950515e+01,  -1.91062722e+01,  -1.90174929e+01,\n",
       "         -1.89287137e+01,  -1.88399344e+01,  -1.87511551e+01,\n",
       "         -1.86623758e+01,  -1.85735965e+01,  -1.84848172e+01,\n",
       "         -1.83960379e+01,  -1.83072586e+01,  -1.82184793e+01,\n",
       "         -1.81297000e+01,  -1.80409207e+01,  -1.79521414e+01,\n",
       "         -1.78633621e+01,  -1.77745828e+01,  -1.76858035e+01,\n",
       "         -1.75970242e+01,  -1.75082449e+01,  -1.74194656e+01,\n",
       "         -1.73306864e+01,  -1.72419071e+01,  -1.71531278e+01,\n",
       "         -1.70643485e+01,  -1.69755692e+01,  -1.68867899e+01,\n",
       "         -1.67980106e+01,  -1.67092313e+01,  -1.66204520e+01,\n",
       "         -1.65316727e+01,  -1.64428934e+01,  -1.63541141e+01,\n",
       "         -1.62653348e+01,  -1.61765555e+01,  -1.60877762e+01,\n",
       "         -1.59989969e+01,  -1.59102176e+01,  -1.58214384e+01,\n",
       "         -1.57326591e+01,  -1.56438798e+01,  -1.55551005e+01,\n",
       "         -1.54663212e+01,  -1.53775419e+01,  -1.52887626e+01,\n",
       "         -1.51999833e+01,  -1.51112040e+01,  -1.50224247e+01,\n",
       "         -1.49336454e+01,  -1.48448661e+01,  -1.47560868e+01,\n",
       "         -1.46673075e+01,  -1.45785282e+01,  -1.44897489e+01,\n",
       "         -1.44009696e+01,  -1.43121903e+01,  -1.42234111e+01,\n",
       "         -1.41346318e+01,  -1.40458525e+01,  -1.39570732e+01,\n",
       "         -1.38682939e+01,  -1.37795146e+01,  -1.36907353e+01,\n",
       "         -1.36019560e+01,  -1.35131767e+01,  -1.34243974e+01,\n",
       "         -1.33356181e+01,  -1.32468388e+01,  -1.31580595e+01,\n",
       "         -1.30692802e+01,  -1.29805009e+01,  -1.28917216e+01,\n",
       "         -1.28029423e+01,  -1.27141631e+01,  -1.26253838e+01,\n",
       "         -1.25366045e+01,  -1.24478252e+01,  -1.23590459e+01,\n",
       "         -1.22702666e+01,  -1.21814873e+01,  -1.20927080e+01,\n",
       "         -1.20039287e+01,  -1.19151494e+01,  -1.18263701e+01,\n",
       "         -1.17375908e+01,  -1.16488115e+01,  -1.15600322e+01,\n",
       "         -1.14712529e+01,  -1.13824736e+01,  -1.12936943e+01,\n",
       "         -1.12049150e+01,  -1.11161358e+01,  -1.10273565e+01,\n",
       "         -1.09385772e+01,  -1.08497979e+01,  -1.07610186e+01,\n",
       "         -1.06722393e+01,  -1.05834600e+01,  -1.04946807e+01,\n",
       "         -1.04059014e+01,  -1.03171221e+01,  -1.02283428e+01,\n",
       "         -1.01395635e+01,  -1.00507842e+01,  -9.96200493e+00,\n",
       "         -9.87322563e+00,  -9.78444634e+00,  -9.69566704e+00,\n",
       "         -9.60688775e+00,  -9.51810845e+00,  -9.42932916e+00,\n",
       "         -9.34054987e+00,  -9.25177057e+00,  -9.16299128e+00,\n",
       "         -9.07421198e+00,  -8.98543269e+00,  -8.89665339e+00,\n",
       "         -8.80787410e+00,  -8.71909481e+00,  -8.63031551e+00,\n",
       "         -8.54153622e+00,  -8.45275692e+00,  -8.36397763e+00,\n",
       "         -8.27519833e+00,  -8.18641904e+00,  -8.09763975e+00,\n",
       "         -8.00886045e+00,  -7.92008116e+00,  -7.83130186e+00,\n",
       "         -7.74252257e+00,  -7.65374327e+00,  -7.56496398e+00,\n",
       "         -7.47618468e+00,  -7.38740539e+00,  -7.29862610e+00,\n",
       "         -7.20984680e+00,  -7.12106751e+00,  -7.03228821e+00,\n",
       "         -6.94350892e+00,  -6.85472962e+00,  -6.76595033e+00,\n",
       "         -6.67717104e+00,  -6.58839174e+00,  -6.49961245e+00,\n",
       "         -6.41083315e+00,  -6.32205386e+00,  -6.23327456e+00,\n",
       "         -6.14449527e+00,  -6.05571598e+00,  -5.96693668e+00,\n",
       "         -5.87815739e+00,  -5.78937809e+00,  -5.70059880e+00,\n",
       "         -5.61181950e+00,  -5.52304021e+00,  -5.43426092e+00,\n",
       "         -5.34548162e+00,  -5.25670233e+00,  -5.16792303e+00,\n",
       "         -5.07914374e+00,  -4.99036444e+00,  -4.90158515e+00,\n",
       "         -4.81280585e+00,  -4.72402656e+00,  -4.63524727e+00,\n",
       "         -4.54646797e+00,  -4.45768868e+00,  -4.36890938e+00,\n",
       "         -4.28013009e+00,  -4.19135079e+00,  -4.10257150e+00,\n",
       "         -4.01379221e+00,  -3.92501291e+00,  -3.83623362e+00,\n",
       "         -3.74745432e+00,  -3.65867503e+00,  -3.56989573e+00,\n",
       "         -3.48111644e+00,  -3.39233715e+00,  -3.30355785e+00,\n",
       "         -3.21477856e+00,  -3.12599926e+00,  -3.03721997e+00,\n",
       "         -2.94844067e+00,  -2.85966138e+00,  -2.77088209e+00,\n",
       "         -2.68210279e+00,  -2.59332350e+00,  -2.50454420e+00,\n",
       "         -2.41576491e+00,  -2.32698561e+00,  -2.23820632e+00,\n",
       "         -2.14942703e+00,  -2.06064773e+00,  -1.97186844e+00,\n",
       "         -1.88308914e+00,  -1.79430985e+00,  -1.70553055e+00,\n",
       "         -1.61675126e+00,  -1.52797196e+00,  -1.43919267e+00,\n",
       "         -1.35041338e+00,  -1.26163408e+00,  -1.17285479e+00,\n",
       "         -1.08407549e+00,  -9.95296199e-01,  -9.06516904e-01,\n",
       "         -8.17737610e-01,  -7.28958316e-01,  -6.40179021e-01,\n",
       "         -5.51399727e-01,  -4.62620433e-01,  -3.73841138e-01,\n",
       "         -2.85061844e-01,  -1.96282550e-01,  -1.07503255e-01,\n",
       "         -1.87239612e-02,   7.00553332e-02,   1.58834628e-01,\n",
       "          2.47613922e-01,   3.36393216e-01,   4.25172510e-01,\n",
       "          5.13951805e-01,   6.02731099e-01,   6.91510393e-01,\n",
       "          7.80289688e-01,   8.69068982e-01,   9.57848276e-01,\n",
       "          1.04662757e+00,   1.13540687e+00,   1.22418616e+00,\n",
       "          1.31296545e+00,   1.40174475e+00,   1.49052404e+00,\n",
       "          1.57930334e+00,   1.66808263e+00,   1.75686193e+00,\n",
       "          1.84564122e+00,   1.93442051e+00,   2.02319981e+00,\n",
       "          2.11197910e+00,   2.20075840e+00,   2.28953769e+00,\n",
       "          2.37831699e+00,   2.46709628e+00,   2.55587557e+00,\n",
       "          2.64465487e+00,   2.73343416e+00,   2.82221346e+00,\n",
       "          2.91099275e+00,   2.99977205e+00,   3.08855134e+00,\n",
       "          3.17733063e+00,   3.26610993e+00,   3.35488922e+00,\n",
       "          3.44366852e+00,   3.53244781e+00,   3.62122711e+00,\n",
       "          3.71000640e+00,   3.79878569e+00,   3.88756499e+00,\n",
       "          3.97634428e+00,   4.06512358e+00,   4.15390287e+00,\n",
       "          4.24268217e+00,   4.33146146e+00,   4.42024076e+00,\n",
       "          4.50902005e+00,   4.59779934e+00,   4.68657864e+00,\n",
       "          4.77535793e+00,   4.86413723e+00,   4.95291652e+00,\n",
       "          5.04169582e+00,   5.13047511e+00,   5.21925440e+00,\n",
       "          5.30803370e+00,   5.39681299e+00,   5.48559229e+00,\n",
       "          5.57437158e+00,   5.66315088e+00,   5.75193017e+00,\n",
       "          5.84070946e+00,   5.92948876e+00,   6.01826805e+00,\n",
       "          6.10704735e+00,   6.19582664e+00,   6.28460594e+00,\n",
       "          6.37338523e+00,   6.46216452e+00,   6.55094382e+00,\n",
       "          6.63972311e+00,   6.72850241e+00,   6.81728170e+00,\n",
       "          6.90606100e+00,   6.99484029e+00,   7.08361959e+00,\n",
       "          7.17239888e+00,   7.26117817e+00,   7.34995747e+00,\n",
       "          7.43873676e+00,   7.52751606e+00,   7.61629535e+00,\n",
       "          7.70507465e+00,   7.79385394e+00,   7.88263323e+00,\n",
       "          7.97141253e+00,   8.06019182e+00,   8.14897112e+00,\n",
       "          8.23775041e+00,   8.32652971e+00,   8.41530900e+00,\n",
       "          8.50408829e+00,   8.59286759e+00,   8.68164688e+00,\n",
       "          8.77042618e+00,   8.85920547e+00,   8.94798477e+00,\n",
       "          9.03676406e+00,   9.12554335e+00,   9.21432265e+00,\n",
       "          9.30310194e+00,   9.39188124e+00,   9.48066053e+00,\n",
       "          9.56943983e+00,   9.65821912e+00,   9.74699841e+00,\n",
       "          9.83577771e+00,   9.92455700e+00,   1.00133363e+01,\n",
       "          1.01021156e+01,   1.01908949e+01,   1.02796742e+01,\n",
       "          1.03684535e+01,   1.04572328e+01,   1.05460121e+01,\n",
       "          1.06347914e+01,   1.07235707e+01,   1.08123499e+01,\n",
       "          1.09011292e+01,   1.09899085e+01,   1.10786878e+01,\n",
       "          1.11674671e+01,   1.12562464e+01,   1.13450257e+01,\n",
       "          1.14338050e+01,   1.15225843e+01,   1.16113636e+01,\n",
       "          1.17001429e+01,   1.17889222e+01,   1.18777015e+01,\n",
       "          1.19664808e+01,   1.20552601e+01,   1.21440394e+01,\n",
       "          1.22328187e+01,   1.23215980e+01,   1.24103772e+01,\n",
       "          1.24991565e+01,   1.25879358e+01,   1.26767151e+01,\n",
       "          1.27654944e+01,   1.28542737e+01,   1.29430530e+01,\n",
       "          1.30318323e+01,   1.31206116e+01,   1.32093909e+01,\n",
       "          1.32981702e+01,   1.33869495e+01,   1.34757288e+01,\n",
       "          1.35645081e+01,   1.36532874e+01,   1.37420667e+01,\n",
       "          1.38308460e+01,   1.39196252e+01,   1.40084045e+01,\n",
       "          1.40971838e+01,   1.41859631e+01,   1.42747424e+01,\n",
       "          1.43635217e+01,   1.44523010e+01,   1.45410803e+01,\n",
       "          1.46298596e+01,   1.47186389e+01,   1.48074182e+01,\n",
       "          1.48961975e+01,   1.49849768e+01,   1.50737561e+01,\n",
       "          1.51625354e+01,   1.52513147e+01,   1.53400940e+01,\n",
       "          1.54288733e+01,   1.55176525e+01,   1.56064318e+01,\n",
       "          1.56952111e+01,   1.57839904e+01,   1.58727697e+01,\n",
       "          1.59615490e+01,   1.60503283e+01,   1.61391076e+01,\n",
       "          1.62278869e+01,   1.63166662e+01,   1.64054455e+01,\n",
       "          1.64942248e+01,   1.65830041e+01,   1.66717834e+01,\n",
       "          1.67605627e+01,   1.68493420e+01,   1.69381213e+01,\n",
       "          1.70269005e+01,   1.71156798e+01,   1.72044591e+01,\n",
       "          1.72932384e+01,   1.73820177e+01,   1.74707970e+01,\n",
       "          1.75595763e+01,   1.76483556e+01,   1.77371349e+01,\n",
       "          1.78259142e+01,   1.79146935e+01,   1.80034728e+01,\n",
       "          1.80922521e+01,   1.81810314e+01,   1.82698107e+01,\n",
       "          1.83585900e+01,   1.84473693e+01,   1.85361486e+01,\n",
       "          1.86249278e+01,   1.87137071e+01,   1.88024864e+01,\n",
       "          1.88912657e+01,   1.89800450e+01,   1.90688243e+01,\n",
       "          1.91576036e+01,   1.92463829e+01,   1.93351622e+01,\n",
       "          1.94239415e+01,   1.95127208e+01,   1.96015001e+01,\n",
       "          1.96902794e+01,   1.97790587e+01,   1.98678380e+01,\n",
       "          1.99566173e+01,   2.00453966e+01,   2.01341759e+01,\n",
       "          2.02229551e+01,   2.03117344e+01,   2.04005137e+01,\n",
       "          2.04892930e+01,   2.05780723e+01,   2.06668516e+01,\n",
       "          2.07556309e+01,   2.08444102e+01,   2.09331895e+01,\n",
       "          2.10219688e+01,   2.11107481e+01,   2.11995274e+01,\n",
       "          2.12883067e+01,   2.13770860e+01,   2.14658653e+01,\n",
       "          2.15546446e+01,   2.16434239e+01,   2.17322031e+01,\n",
       "          2.18209824e+01,   2.19097617e+01,   2.19985410e+01,\n",
       "          2.20873203e+01,   2.21760996e+01,   2.22648789e+01,\n",
       "          2.23536582e+01,   2.24424375e+01,   2.25312168e+01]),\n",
       " <a list of 500 Patch objects>)"
      ]
     },
     "execution_count": 5,
     "metadata": {},
     "output_type": "execute_result"
    },
    {
     "data": {
      "image/png": "[encoded data removed]",
      "text/plain": [
       "<matplotlib.figure.Figure at 0x10b8cb290>"
      ]
     },
     "metadata": {},
     "output_type": "display_data"
    }
   ],
   "source": [
    "plt.hist(sum,500)"
   ]
  },
  {
   "cell_type": "code",
   "execution_count": 6,
   "metadata": {},
   "outputs": [
    {
     "data": {
      "text/plain": [
       "47.578325962965451"
      ]
     },
     "execution_count": 6,
     "metadata": {},
     "output_type": "execute_result"
    }
   ],
   "source": [
    "np.var(sum)"
   ]
  },
  {
   "cell_type": "code",
   "execution_count": 7,
   "metadata": {},
   "outputs": [
    {
     "data": {
      "text/plain": [
       "-0.18595753701655826"
      ]
     },
     "execution_count": 7,
     "metadata": {},
     "output_type": "execute_result"
    }
   ],
   "source": [
    "np.mean(sum)"
   ]
  },
  {
   "cell_type": "code",
   "execution_count": null,
   "metadata": {
    "collapsed": true
   },
   "outputs": [],
   "source": []
  },
  {
   "cell_type": "markdown",
   "metadata": {},
   "source": [
    "## Question 2"
   ]
  },
  {
   "cell_type": "code",
   "execution_count": 8,
   "metadata": {},
   "outputs": [
    {
     "data": {
      "text/plain": [
       "(array([  1.,   0.,   0.,   0.,   0.,   0.,   0.,   0.,   0.,   0.,   0.,\n",
       "          0.,   0.,   0.,   0.,   0.,   0.,   0.,   0.,   0.,   1.,   0.,\n",
       "          1.,   3.,   1.,   0.,   2.,   0.,   1.,   2.,   6.,   3.,   3.,\n",
       "          0.,   5.,   7.,   9.,  17.,   9.,  16.,  22.,   0.,  14.,  20.,\n",
       "         27.,  21.,  28.,  28.,  23.,  22.,   0.,  28.,  40.,  38.,  35.,\n",
       "         41.,  40.,  44.,   0.,  35.,  38.,  38.,  27.,  29.,  31.,  22.,\n",
       "          0.,  25.,  15.,  20.,  17.,  17.,  23.,  17.,   0.,  10.,  10.,\n",
       "         13.,  10.,   3.,   5.,   6.,   8.,   0.,   6.,   4.,   4.,   1.,\n",
       "          2.,   1.,   1.,   0.,   0.,   1.,   1.,   1.,   0.,   0.,   0.,\n",
       "          1.]), array([ -2.04000000e-01,  -2.00480000e-01,  -1.96960000e-01,\n",
       "         -1.93440000e-01,  -1.89920000e-01,  -1.86400000e-01,\n",
       "         -1.82880000e-01,  -1.79360000e-01,  -1.75840000e-01,\n",
       "         -1.72320000e-01,  -1.68800000e-01,  -1.65280000e-01,\n",
       "         -1.61760000e-01,  -1.58240000e-01,  -1.54720000e-01,\n",
       "         -1.51200000e-01,  -1.47680000e-01,  -1.44160000e-01,\n",
       "         -1.40640000e-01,  -1.37120000e-01,  -1.33600000e-01,\n",
       "         -1.30080000e-01,  -1.26560000e-01,  -1.23040000e-01,\n",
       "         -1.19520000e-01,  -1.16000000e-01,  -1.12480000e-01,\n",
       "         -1.08960000e-01,  -1.05440000e-01,  -1.01920000e-01,\n",
       "         -9.84000000e-02,  -9.48800000e-02,  -9.13600000e-02,\n",
       "         -8.78400000e-02,  -8.43200000e-02,  -8.08000000e-02,\n",
       "         -7.72800000e-02,  -7.37600000e-02,  -7.02400000e-02,\n",
       "         -6.67200000e-02,  -6.32000000e-02,  -5.96800000e-02,\n",
       "         -5.61600000e-02,  -5.26400000e-02,  -4.91200000e-02,\n",
       "         -4.56000000e-02,  -4.20800000e-02,  -3.85600000e-02,\n",
       "         -3.50400000e-02,  -3.15200000e-02,  -2.80000000e-02,\n",
       "         -2.44800000e-02,  -2.09600000e-02,  -1.74400000e-02,\n",
       "         -1.39200000e-02,  -1.04000000e-02,  -6.88000000e-03,\n",
       "         -3.36000000e-03,   1.60000000e-04,   3.68000000e-03,\n",
       "          7.20000000e-03,   1.07200000e-02,   1.42400000e-02,\n",
       "          1.77600000e-02,   2.12800000e-02,   2.48000000e-02,\n",
       "          2.83200000e-02,   3.18400000e-02,   3.53600000e-02,\n",
       "          3.88800000e-02,   4.24000000e-02,   4.59200000e-02,\n",
       "          4.94400000e-02,   5.29600000e-02,   5.64800000e-02,\n",
       "          6.00000000e-02,   6.35200000e-02,   6.70400000e-02,\n",
       "          7.05600000e-02,   7.40800000e-02,   7.76000000e-02,\n",
       "          8.11200000e-02,   8.46400000e-02,   8.81600000e-02,\n",
       "          9.16800000e-02,   9.52000000e-02,   9.87200000e-02,\n",
       "          1.02240000e-01,   1.05760000e-01,   1.09280000e-01,\n",
       "          1.12800000e-01,   1.16320000e-01,   1.19840000e-01,\n",
       "          1.23360000e-01,   1.26880000e-01,   1.30400000e-01,\n",
       "          1.33920000e-01,   1.37440000e-01,   1.40960000e-01,\n",
       "          1.44480000e-01,   1.48000000e-01]), <a list of 100 Patch objects>)"
      ]
     },
     "execution_count": 8,
     "metadata": {},
     "output_type": "execute_result"
    },
    {
     "data": {
      "image/png": "[encoded data removed]",
      "text/plain": [
       "<matplotlib.figure.Figure at 0x10f8987d0>"
      ]
     },
     "metadata": {},
     "output_type": "display_data"
    },
    {
     "data": {
      "image/png": "[encoded data removed]",
      "text/plain": [
       "<matplotlib.figure.Figure at 0x10eeebe10>"
      ]
     },
     "metadata": {},
     "output_type": "display_data"
    },
    {
     "data": {
      "image/png": "[encoded data removed]",
      "text/plain": [
       "<matplotlib.figure.Figure at 0x10f9a94d0>"
      ]
     },
     "metadata": {},
     "output_type": "display_data"
    },
    {
     "data": {
      "image/png": "[encoded data removed]",
      "text/plain": [
       "<matplotlib.figure.Figure at 0x10fa71ed0>"
      ]
     },
     "metadata": {},
     "output_type": "display_data"
    }
   ],
   "source": [
    "def F(n):\n",
    "    return np.sum([-1 if (x == 0) else 1 for x in np.random.binomial(1, 0.5, n)]) / float(n)\n",
    "\n",
    "list = [F(5) for i in range (1000)];\n",
    "plt.hist(list)\n",
    "plt.figure()\n",
    "\n",
    "list = [F(50) for i in range(1000)]\n",
    "plt.hist(list, bins=10, range=[-1,1])\n",
    "plt.figure()\n",
    "\n",
    "list = [F(250) for i in range(1000)]\n",
    "plt.hist(list, bins=50)\n",
    "plt.figure()\n",
    "\n",
    "list = [F(500) for i in range(1000)]\n",
    "plt.hist(list, bins=100)"
   ]
  },
  {
   "cell_type": "code",
   "execution_count": null,
   "metadata": {
    "collapsed": true
   },
   "outputs": [],
   "source": []
  },
  {
   "cell_type": "markdown",
   "metadata": {
    "collapsed": true
   },
   "source": [
    "## Question 3"
   ]
  },
  {
   "cell_type": "code",
   "execution_count": 9,
   "metadata": {
    "collapsed": true
   },
   "outputs": [],
   "source": [
    "z = np.random.normal(0,5,25000)"
   ]
  },
  {
   "cell_type": "code",
   "execution_count": 10,
   "metadata": {
    "collapsed": true
   },
   "outputs": [],
   "source": [
    "mean = np.sum(z)/25000"
   ]
  },
  {
   "cell_type": "code",
   "execution_count": 11,
   "metadata": {},
   "outputs": [
    {
     "data": {
      "text/plain": [
       "-0.043931020712449163"
      ]
     },
     "execution_count": 11,
     "metadata": {},
     "output_type": "execute_result"
    }
   ],
   "source": [
    "mean"
   ]
  },
  {
   "cell_type": "code",
   "execution_count": 12,
   "metadata": {},
   "outputs": [
    {
     "data": {
      "text/plain": [
       "array([  5.22682079,  31.44939697,  23.00719965, ...,  35.17798596,\n",
       "         0.29698596,  77.55102058])"
      ]
     },
     "execution_count": 12,
     "metadata": {},
     "output_type": "execute_result"
    }
   ],
   "source": [
    "np.square(z - mean)"
   ]
  },
  {
   "cell_type": "code",
   "execution_count": 13,
   "metadata": {
    "collapsed": true
   },
   "outputs": [],
   "source": [
    "sumZ = np.sum(np.square(z - mean))"
   ]
  },
  {
   "cell_type": "code",
   "execution_count": 14,
   "metadata": {
    "collapsed": true
   },
   "outputs": [],
   "source": [
    "var = sumZ/(25000-1)"
   ]
  },
  {
   "cell_type": "code",
   "execution_count": 15,
   "metadata": {
    "collapsed": true
   },
   "outputs": [],
   "source": [
    "stddevZ = np.sqrt(var)"
   ]
  },
  {
   "cell_type": "code",
   "execution_count": 16,
   "metadata": {},
   "outputs": [
    {
     "data": {
      "text/plain": [
       "5.0189366202491632"
      ]
     },
     "execution_count": 16,
     "metadata": {},
     "output_type": "execute_result"
    }
   ],
   "source": [
    "stddevZ"
   ]
  },
  {
   "cell_type": "code",
   "execution_count": null,
   "metadata": {
    "collapsed": true
   },
   "outputs": [],
   "source": []
  },
  {
   "cell_type": "markdown",
   "metadata": {
    "collapsed": true
   },
   "source": [
    "## Question 4"
   ]
  },
  {
   "cell_type": "markdown",
   "metadata": {},
   "source": [
    "#### Generate data"
   ]
  },
  {
   "cell_type": "code",
   "execution_count": 17,
   "metadata": {
    "collapsed": true
   },
   "outputs": [],
   "source": [
    "gauss2d = np.random.multivariate_normal((-5,5), np.matrix([[20, .8],[.8, 30]]), 10000)"
   ]
  },
  {
   "cell_type": "code",
   "execution_count": 18,
   "metadata": {},
   "outputs": [
    {
     "data": {
      "image/png": "[encoded data removed]",
      "text/plain": [
       "<matplotlib.figure.Figure at 0x10b8cb310>"
      ]
     },
     "metadata": {},
     "output_type": "display_data"
    }
   ],
   "source": [
    "plt.imshow(gauss2d, interpolation=\"nearest\", origin=\"upper\")\n",
    "plt.colorbar()\n",
    "plt.show()"
   ]
  },
  {
   "cell_type": "markdown",
   "metadata": {},
   "source": [
    "#### Data generated, x values in first column, y values in second column"
   ]
  },
  {
   "cell_type": "code",
   "execution_count": 19,
   "metadata": {},
   "outputs": [
    {
     "data": {
      "text/plain": [
       "array([[  5.22720004,   5.76502346],\n",
       "       [  5.20719992,  -5.46797526],\n",
       "       [ -1.03427306,  -7.32744491],\n",
       "       ..., \n",
       "       [ -0.73004186,  15.30594954],\n",
       "       [ -9.25152099,   5.78487592],\n",
       "       [ -6.64071203,   3.40754047]])"
      ]
     },
     "execution_count": 19,
     "metadata": {},
     "output_type": "execute_result"
    }
   ],
   "source": [
    "gauss2d"
   ]
  },
  {
   "cell_type": "markdown",
   "metadata": {},
   "source": [
    "#### Calculate the mean for x and y"
   ]
  },
  {
   "cell_type": "code",
   "execution_count": 28,
   "metadata": {},
   "outputs": [
    {
     "data": {
      "text/plain": [
       "(-4.957188149782457, 5.0970674280582058)"
      ]
     },
     "execution_count": 28,
     "metadata": {},
     "output_type": "execute_result"
    }
   ],
   "source": [
    "mean2d = np.sum(gauss2d,axis=0)/10000\n",
    "mean_x = mean2d[0]\n",
    "mean_y = mean2d[1]\n",
    "mean_x, mean_y"
   ]
  },
  {
   "cell_type": "markdown",
   "metadata": {},
   "source": [
    "#### FInd the covariance of x"
   ]
  },
  {
   "cell_type": "code",
   "execution_count": 29,
   "metadata": {},
   "outputs": [],
   "source": [
    "var_x = gauss2d[:,0]-  mean_x"
   ]
  },
  {
   "cell_type": "code",
   "execution_count": 32,
   "metadata": {},
   "outputs": [
    {
     "data": {
      "text/plain": [
       "20.013565677808511"
      ]
     },
     "execution_count": 32,
     "metadata": {},
     "output_type": "execute_result"
    }
   ],
   "source": [
    "covar_x = np.sum(np.square(var_x))/10000\n",
    "covar_x"
   ]
  },
  {
   "cell_type": "markdown",
   "metadata": {
    "collapsed": true
   },
   "source": [
    "#### Find the covariance of y"
   ]
  },
  {
   "cell_type": "code",
   "execution_count": 31,
   "metadata": {
    "collapsed": true
   },
   "outputs": [],
   "source": [
    "var_y = gauss2d[:,1] - mean_y"
   ]
  },
  {
   "cell_type": "code",
   "execution_count": 34,
   "metadata": {},
   "outputs": [
    {
     "data": {
      "text/plain": [
       "29.723492512132601"
      ]
     },
     "execution_count": 34,
     "metadata": {},
     "output_type": "execute_result"
    }
   ],
   "source": [
    "covar_y = np.sum(np.square(var_y))/10000\n",
    "covar_y"
   ]
  },
  {
   "cell_type": "markdown",
   "metadata": {},
   "source": [
    "#### Find the covariance of x and y"
   ]
  },
  {
   "cell_type": "code",
   "execution_count": 35,
   "metadata": {},
   "outputs": [
    {
     "data": {
      "text/plain": [
       "0.67325436395665728"
      ]
     },
     "execution_count": 35,
     "metadata": {},
     "output_type": "execute_result"
    }
   ],
   "source": [
    "covar_xy = np.sum(var_y*var_x)/10000\n",
    "covar_xy"
   ]
  },
  {
   "cell_type": "markdown",
   "metadata": {
    "collapsed": true
   },
   "source": [
    "#### Covariance matrix"
   ]
  },
  {
   "cell_type": "code",
   "execution_count": 36,
   "metadata": {},
   "outputs": [
    {
     "data": {
      "text/plain": [
       "[[20.013565677808511, 0.67325436395665728],\n",
       " [0.67325436395665728, 29.723492512132601]]"
      ]
     },
     "execution_count": 36,
     "metadata": {},
     "output_type": "execute_result"
    }
   ],
   "source": [
    "covar_matrix = [[covar_x, covar_xy], [covar_xy, covar_y]]\n",
    "covar_matrix"
   ]
  },
  {
   "cell_type": "markdown",
   "metadata": {},
   "source": [
    "## Question 5"
   ]
  },
  {
   "cell_type": "code",
   "execution_count": 24,
   "metadata": {},
   "outputs": [
    {
     "ename": "IOError",
     "evalue": "File PatientData.csv does not exist",
     "output_type": "error",
     "traceback": [
      "\u001b[0;31m---------------------------------------------------------------------------\u001b[0m",
      "\u001b[0;31mIOError\u001b[0m                                   Traceback (most recent call last)",
      "\u001b[0;32m<ipython-input-24-22a7f5d2ecec>\u001b[0m in \u001b[0;36m<module>\u001b[0;34m()\u001b[0m\n\u001b[0;32m----> 1\u001b[0;31m \u001b[0mdf\u001b[0m \u001b[0;34m=\u001b[0m \u001b[0mpd\u001b[0m\u001b[0;34m.\u001b[0m\u001b[0mread_csv\u001b[0m\u001b[0;34m(\u001b[0m\u001b[0;34m'PatientData.csv'\u001b[0m\u001b[0;34m,\u001b[0m \u001b[0mheader\u001b[0m\u001b[0;34m=\u001b[0m\u001b[0mNone\u001b[0m\u001b[0;34m)\u001b[0m\u001b[0;34m\u001b[0m\u001b[0m\n\u001b[0m\u001b[1;32m      2\u001b[0m \u001b[0mpd\u001b[0m\u001b[0;34m.\u001b[0m\u001b[0mset_option\u001b[0m\u001b[0;34m(\u001b[0m\u001b[0;34m'display.max_columns'\u001b[0m\u001b[0;34m,\u001b[0m \u001b[0mNone\u001b[0m\u001b[0;34m)\u001b[0m\u001b[0;34m\u001b[0m\u001b[0m\n",
      "\u001b[0;32m/Users/mehtaab/anaconda/lib/python2.7/site-packages/pandas/io/parsers.pyc\u001b[0m in \u001b[0;36mparser_f\u001b[0;34m(filepath_or_buffer, sep, delimiter, header, names, index_col, usecols, squeeze, prefix, mangle_dupe_cols, dtype, engine, converters, true_values, false_values, skipinitialspace, skiprows, nrows, na_values, keep_default_na, na_filter, verbose, skip_blank_lines, parse_dates, infer_datetime_format, keep_date_col, date_parser, dayfirst, iterator, chunksize, compression, thousands, decimal, lineterminator, quotechar, quoting, escapechar, comment, encoding, dialect, tupleize_cols, error_bad_lines, warn_bad_lines, skipfooter, skip_footer, doublequote, delim_whitespace, as_recarray, compact_ints, use_unsigned, low_memory, buffer_lines, memory_map, float_precision)\u001b[0m\n\u001b[1;32m    653\u001b[0m                     skip_blank_lines=skip_blank_lines)\n\u001b[1;32m    654\u001b[0m \u001b[0;34m\u001b[0m\u001b[0m\n\u001b[0;32m--> 655\u001b[0;31m         \u001b[0;32mreturn\u001b[0m \u001b[0m_read\u001b[0m\u001b[0;34m(\u001b[0m\u001b[0mfilepath_or_buffer\u001b[0m\u001b[0;34m,\u001b[0m \u001b[0mkwds\u001b[0m\u001b[0;34m)\u001b[0m\u001b[0;34m\u001b[0m\u001b[0m\n\u001b[0m\u001b[1;32m    656\u001b[0m \u001b[0;34m\u001b[0m\u001b[0m\n\u001b[1;32m    657\u001b[0m     \u001b[0mparser_f\u001b[0m\u001b[0;34m.\u001b[0m\u001b[0m__name__\u001b[0m \u001b[0;34m=\u001b[0m \u001b[0mname\u001b[0m\u001b[0;34m\u001b[0m\u001b[0m\n",
      "\u001b[0;32m/Users/mehtaab/anaconda/lib/python2.7/site-packages/pandas/io/parsers.pyc\u001b[0m in \u001b[0;36m_read\u001b[0;34m(filepath_or_buffer, kwds)\u001b[0m\n\u001b[1;32m    403\u001b[0m \u001b[0;34m\u001b[0m\u001b[0m\n\u001b[1;32m    404\u001b[0m     \u001b[0;31m# Create the parser.\u001b[0m\u001b[0;34m\u001b[0m\u001b[0;34m\u001b[0m\u001b[0m\n\u001b[0;32m--> 405\u001b[0;31m     \u001b[0mparser\u001b[0m \u001b[0;34m=\u001b[0m \u001b[0mTextFileReader\u001b[0m\u001b[0;34m(\u001b[0m\u001b[0mfilepath_or_buffer\u001b[0m\u001b[0;34m,\u001b[0m \u001b[0;34m**\u001b[0m\u001b[0mkwds\u001b[0m\u001b[0;34m)\u001b[0m\u001b[0;34m\u001b[0m\u001b[0m\n\u001b[0m\u001b[1;32m    406\u001b[0m \u001b[0;34m\u001b[0m\u001b[0m\n\u001b[1;32m    407\u001b[0m     \u001b[0;32mif\u001b[0m \u001b[0mchunksize\u001b[0m \u001b[0;32mor\u001b[0m \u001b[0miterator\u001b[0m\u001b[0;34m:\u001b[0m\u001b[0;34m\u001b[0m\u001b[0m\n",
      "\u001b[0;32m/Users/mehtaab/anaconda/lib/python2.7/site-packages/pandas/io/parsers.pyc\u001b[0m in \u001b[0;36m__init__\u001b[0;34m(self, f, engine, **kwds)\u001b[0m\n\u001b[1;32m    760\u001b[0m             \u001b[0mself\u001b[0m\u001b[0;34m.\u001b[0m\u001b[0moptions\u001b[0m\u001b[0;34m[\u001b[0m\u001b[0;34m'has_index_names'\u001b[0m\u001b[0;34m]\u001b[0m \u001b[0;34m=\u001b[0m \u001b[0mkwds\u001b[0m\u001b[0;34m[\u001b[0m\u001b[0;34m'has_index_names'\u001b[0m\u001b[0;34m]\u001b[0m\u001b[0;34m\u001b[0m\u001b[0m\n\u001b[1;32m    761\u001b[0m \u001b[0;34m\u001b[0m\u001b[0m\n\u001b[0;32m--> 762\u001b[0;31m         \u001b[0mself\u001b[0m\u001b[0;34m.\u001b[0m\u001b[0m_make_engine\u001b[0m\u001b[0;34m(\u001b[0m\u001b[0mself\u001b[0m\u001b[0;34m.\u001b[0m\u001b[0mengine\u001b[0m\u001b[0;34m)\u001b[0m\u001b[0;34m\u001b[0m\u001b[0m\n\u001b[0m\u001b[1;32m    763\u001b[0m \u001b[0;34m\u001b[0m\u001b[0m\n\u001b[1;32m    764\u001b[0m     \u001b[0;32mdef\u001b[0m \u001b[0mclose\u001b[0m\u001b[0;34m(\u001b[0m\u001b[0mself\u001b[0m\u001b[0;34m)\u001b[0m\u001b[0;34m:\u001b[0m\u001b[0;34m\u001b[0m\u001b[0m\n",
      "\u001b[0;32m/Users/mehtaab/anaconda/lib/python2.7/site-packages/pandas/io/parsers.pyc\u001b[0m in \u001b[0;36m_make_engine\u001b[0;34m(self, engine)\u001b[0m\n\u001b[1;32m    964\u001b[0m     \u001b[0;32mdef\u001b[0m \u001b[0m_make_engine\u001b[0m\u001b[0;34m(\u001b[0m\u001b[0mself\u001b[0m\u001b[0;34m,\u001b[0m \u001b[0mengine\u001b[0m\u001b[0;34m=\u001b[0m\u001b[0;34m'c'\u001b[0m\u001b[0;34m)\u001b[0m\u001b[0;34m:\u001b[0m\u001b[0;34m\u001b[0m\u001b[0m\n\u001b[1;32m    965\u001b[0m         \u001b[0;32mif\u001b[0m \u001b[0mengine\u001b[0m \u001b[0;34m==\u001b[0m \u001b[0;34m'c'\u001b[0m\u001b[0;34m:\u001b[0m\u001b[0;34m\u001b[0m\u001b[0m\n\u001b[0;32m--> 966\u001b[0;31m             \u001b[0mself\u001b[0m\u001b[0;34m.\u001b[0m\u001b[0m_engine\u001b[0m \u001b[0;34m=\u001b[0m \u001b[0mCParserWrapper\u001b[0m\u001b[0;34m(\u001b[0m\u001b[0mself\u001b[0m\u001b[0;34m.\u001b[0m\u001b[0mf\u001b[0m\u001b[0;34m,\u001b[0m \u001b[0;34m**\u001b[0m\u001b[0mself\u001b[0m\u001b[0;34m.\u001b[0m\u001b[0moptions\u001b[0m\u001b[0;34m)\u001b[0m\u001b[0;34m\u001b[0m\u001b[0m\n\u001b[0m\u001b[1;32m    967\u001b[0m         \u001b[0;32melse\u001b[0m\u001b[0;34m:\u001b[0m\u001b[0;34m\u001b[0m\u001b[0m\n\u001b[1;32m    968\u001b[0m             \u001b[0;32mif\u001b[0m \u001b[0mengine\u001b[0m \u001b[0;34m==\u001b[0m \u001b[0;34m'python'\u001b[0m\u001b[0;34m:\u001b[0m\u001b[0;34m\u001b[0m\u001b[0m\n",
      "\u001b[0;32m/Users/mehtaab/anaconda/lib/python2.7/site-packages/pandas/io/parsers.pyc\u001b[0m in \u001b[0;36m__init__\u001b[0;34m(self, src, **kwds)\u001b[0m\n\u001b[1;32m   1580\u001b[0m         \u001b[0mkwds\u001b[0m\u001b[0;34m[\u001b[0m\u001b[0;34m'allow_leading_cols'\u001b[0m\u001b[0;34m]\u001b[0m \u001b[0;34m=\u001b[0m \u001b[0mself\u001b[0m\u001b[0;34m.\u001b[0m\u001b[0mindex_col\u001b[0m \u001b[0;32mis\u001b[0m \u001b[0;32mnot\u001b[0m \u001b[0mFalse\u001b[0m\u001b[0;34m\u001b[0m\u001b[0m\n\u001b[1;32m   1581\u001b[0m \u001b[0;34m\u001b[0m\u001b[0m\n\u001b[0;32m-> 1582\u001b[0;31m         \u001b[0mself\u001b[0m\u001b[0;34m.\u001b[0m\u001b[0m_reader\u001b[0m \u001b[0;34m=\u001b[0m \u001b[0mparsers\u001b[0m\u001b[0;34m.\u001b[0m\u001b[0mTextReader\u001b[0m\u001b[0;34m(\u001b[0m\u001b[0msrc\u001b[0m\u001b[0;34m,\u001b[0m \u001b[0;34m**\u001b[0m\u001b[0mkwds\u001b[0m\u001b[0;34m)\u001b[0m\u001b[0;34m\u001b[0m\u001b[0m\n\u001b[0m\u001b[1;32m   1583\u001b[0m \u001b[0;34m\u001b[0m\u001b[0m\n\u001b[1;32m   1584\u001b[0m         \u001b[0;31m# XXX\u001b[0m\u001b[0;34m\u001b[0m\u001b[0;34m\u001b[0m\u001b[0m\n",
      "\u001b[0;32mpandas/_libs/parsers.pyx\u001b[0m in \u001b[0;36mpandas._libs.parsers.TextReader.__cinit__ (pandas/_libs/parsers.c:4209)\u001b[0;34m()\u001b[0m\n",
      "\u001b[0;32mpandas/_libs/parsers.pyx\u001b[0m in \u001b[0;36mpandas._libs.parsers.TextReader._setup_parser_source (pandas/_libs/parsers.c:8873)\u001b[0;34m()\u001b[0m\n",
      "\u001b[0;31mIOError\u001b[0m: File PatientData.csv does not exist"
     ]
    }
   ],
   "source": [
    "df = pd.read_csv('PatientData.csv', header=None)\n",
    "pd.set_option('display.max_columns', None)"
   ]
  },
  {
   "cell_type": "markdown",
   "metadata": {},
   "source": [
    "(a) 452 patients, 279 features "
   ]
  },
  {
   "cell_type": "markdown",
   "metadata": {},
   "source": [
    "(b) The first four columns are most likely age, gender, height in cm, and weight in kg."
   ]
  },
  {
   "cell_type": "markdown",
   "metadata": {},
   "source": [
    "(c) The missing values '?' are replaced with NaN and then filled with the mean of the columns."
   ]
  },
  {
   "cell_type": "code",
   "execution_count": null,
   "metadata": {
    "collapsed": true
   },
   "outputs": [],
   "source": [
    "df = df.replace('?', np.nan)\n",
    "df = df.apply(pd.to_numeric)"
   ]
  },
  {
   "cell_type": "code",
   "execution_count": null,
   "metadata": {},
   "outputs": [],
   "source": [
    "df[10].map(type).unique()"
   ]
  },
  {
   "cell_type": "code",
   "execution_count": null,
   "metadata": {
    "scrolled": false
   },
   "outputs": [],
   "source": [
    "df2 = df.fillna(df.mean())\n",
    "df2.astype(int)"
   ]
  },
  {
   "cell_type": "markdown",
   "metadata": {
    "collapsed": true
   },
   "source": [
    "(d) The way to do this is to build a model, that relates features, to outcomes. In this case, with a binary outcome, you could use logistic regression. Once you've fit that model, you put the new patients's features into that model, to predict how likely they are to have a certain condition.\n",
    "\n",
    "After this any features don't help the prediction, or if there are too many features, some can be removed from the model."
   ]
  }
 ],
 "metadata": {
  "kernelspec": {
   "display_name": "Python 2",
   "language": "python",
   "name": "python2"
  },
  "language_info": {
   "codemirror_mode": {
    "name": "ipython",
    "version": 2
   },
   "file_extension": ".py",
   "mimetype": "text/x-python",
   "name": "python",
   "nbconvert_exporter": "python",
   "pygments_lexer": "ipython2",
   "version": "2.7.13"
  }
 },
 "nbformat": 4,
 "nbformat_minor": 2
}
