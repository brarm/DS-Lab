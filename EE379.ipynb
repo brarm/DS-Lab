{
 "cells": [
  {
   "cell_type": "code",
   "execution_count": 1,
   "metadata": {},
   "outputs": [],
   "source": [
    "import numpy as np\n",
    "import pandas as pd\n",
    "import sklearn as sk\n",
    "import matplotlib.pyplot as plt\n",
    "%matplotlib inline"
   ]
  },
  {
   "cell_type": "code",
   "execution_count": 2,
   "metadata": {},
   "outputs": [],
   "source": [
    "x = np.random.normal(-10,5,1000)"
   ]
  },
  {
   "cell_type": "code",
   "execution_count": 3,
   "metadata": {},
   "outputs": [],
   "source": [
    "y = np.random.normal(10,5,1000)"
   ]
  },
  {
   "cell_type": "code",
   "execution_count": 4,
   "metadata": {},
   "outputs": [],
   "source": [
    "sum = x+y"
   ]
  },
  {
   "cell_type": "code",
   "execution_count": 5,
   "metadata": {},
   "outputs": [
    {
     "data": {
      "text/plain": [
       "(array([  1.,   0.,   1.,   0.,   0.,   0.,   0.,   0.,   0.,   0.,   0.,\n",
       "          0.,   0.,   0.,   0.,   0.,   0.,   0.,   0.,   0.,   1.,   0.,\n",
       "          0.,   0.,   0.,   0.,   0.,   1.,   0.,   0.,   0.,   0.,   0.,\n",
       "          0.,   0.,   1.,   0.,   0.,   0.,   0.,   0.,   0.,   0.,   0.,\n",
       "          0.,   1.,   0.,   0.,   2.,   0.,   1.,   0.,   0.,   0.,   0.,\n",
       "          0.,   1.,   0.,   1.,   0.,   0.,   0.,   1.,   0.,   0.,   0.,\n",
       "          0.,   0.,   0.,   0.,   0.,   0.,   1.,   0.,   0.,   0.,   1.,\n",
       "          0.,   0.,   0.,   0.,   0.,   1.,   1.,   0.,   1.,   1.,   1.,\n",
       "          0.,   0.,   0.,   0.,   0.,   1.,   4.,   1.,   2.,   2.,   0.,\n",
       "          0.,   1.,   0.,   2.,   2.,   1.,   1.,   0.,   5.,   2.,   1.,\n",
       "          3.,   0.,   3.,   4.,   0.,   1.,   1.,   1.,   1.,   1.,   4.,\n",
       "          1.,   3.,   4.,   1.,   1.,   2.,   3.,   2.,   2.,   2.,   2.,\n",
       "          4.,   3.,   3.,   2.,   2.,   1.,   2.,   5.,   1.,   3.,   3.,\n",
       "          5.,   2.,   3.,   4.,   2.,   0.,   2.,   0.,   4.,   3.,   2.,\n",
       "          7.,   7.,   4.,   1.,   2.,   3.,   1.,   6.,   6.,   6.,   3.,\n",
       "          3.,   4.,   4.,   2.,   3.,   3.,   1.,   2.,   3.,   2.,   5.,\n",
       "          3.,   1.,   6.,   4.,   4.,  10.,   4.,   8.,   4.,   5.,   3.,\n",
       "          5.,   3.,   4.,   7.,   7.,   3.,   3.,   2.,   6.,   3.,  10.,\n",
       "          1.,   4.,   7.,   6.,   6.,   8.,  11.,   4.,   8.,   2.,   0.,\n",
       "          6.,   5.,   8.,   8.,   2.,   2.,   4.,   8.,   9.,   5.,   8.,\n",
       "          4.,   5.,   8.,   7.,   4.,   6.,   3.,   4.,   4.,   6.,   4.,\n",
       "          2.,   3.,   8.,   2.,   9.,   5.,   5.,   6.,   8.,   6.,   4.,\n",
       "          5.,   3.,   3.,   7.,   7.,   5.,   8.,   6.,   4.,   1.,   3.,\n",
       "          7.,   7.,   7.,   2.,   5.,   2.,   5.,   6.,   6.,  10.,   5.,\n",
       "          3.,   4.,   5.,   3.,   3.,   1.,   9.,   6.,   7.,   5.,   6.,\n",
       "          7.,   3.,   8.,   8.,   5.,   4.,   4.,   4.,   8.,   2.,   3.,\n",
       "          6.,   2.,   2.,   6.,   3.,   6.,   5.,   5.,   2.,   2.,   1.,\n",
       "          2.,   2.,   4.,   5.,   2.,   2.,   5.,   2.,   5.,   2.,   4.,\n",
       "          5.,   4.,   1.,   1.,   4.,   3.,   4.,   2.,   3.,   1.,   4.,\n",
       "          4.,   2.,   3.,   0.,   4.,   3.,   2.,   3.,   1.,   3.,   2.,\n",
       "          1.,   1.,   2.,   1.,   1.,   1.,   3.,   4.,   0.,   3.,   0.,\n",
       "          2.,   4.,   0.,   2.,   3.,   1.,   2.,   3.,   5.,   3.,   0.,\n",
       "          0.,   1.,   1.,   2.,   2.,   2.,   1.,   0.,   1.,   2.,   1.,\n",
       "          1.,   2.,   1.,   1.,   1.,   0.,   0.,   0.,   0.,   3.,   3.,\n",
       "          1.,   0.,   1.,   2.,   1.,   0.,   0.,   1.,   1.,   0.,   0.,\n",
       "          0.,   0.,   0.,   0.,   0.,   1.,   0.,   0.,   0.,   0.,   0.,\n",
       "          0.,   1.,   0.,   1.,   0.,   0.,   0.,   0.,   0.,   0.,   0.,\n",
       "          0.,   0.,   0.,   0.,   0.,   0.,   0.,   0.,   0.,   0.,   0.,\n",
       "          0.,   0.,   0.,   0.,   1.,   0.,   0.,   2.,   1.,   0.,   0.,\n",
       "          0.,   0.,   0.,   0.,   0.,   0.,   0.,   0.,   0.,   0.,   0.,\n",
       "          1.,   0.,   0.,   0.,   0.,   0.,   0.,   0.,   0.,   0.,   0.,\n",
       "          0.,   0.,   0.,   0.,   0.,   0.,   0.,   0.,   0.,   0.,   0.,\n",
       "          0.,   0.,   0.,   1.,   0.,   0.,   0.,   0.,   0.,   0.,   0.,\n",
       "          0.,   0.,   0.,   0.,   0.,   0.,   0.,   0.,   0.,   0.,   0.,\n",
       "          0.,   0.,   0.,   0.,   0.,   0.,   0.,   0.,   0.,   0.,   0.,\n",
       "          0.,   0.,   0.,   0.,   1.]),\n",
       " array([-22.87916116, -22.77776095, -22.67636075, -22.57496054,\n",
       "        -22.47356033, -22.37216012, -22.27075991, -22.16935971,\n",
       "        -22.0679595 , -21.96655929, -21.86515908, -21.76375887,\n",
       "        -21.66235867, -21.56095846, -21.45955825, -21.35815804,\n",
       "        -21.25675783, -21.15535762, -21.05395742, -20.95255721,\n",
       "        -20.851157  , -20.74975679, -20.64835658, -20.54695638,\n",
       "        -20.44555617, -20.34415596, -20.24275575, -20.14135554,\n",
       "        -20.03995534, -19.93855513, -19.83715492, -19.73575471,\n",
       "        -19.6343545 , -19.5329543 , -19.43155409, -19.33015388,\n",
       "        -19.22875367, -19.12735346, -19.02595326, -18.92455305,\n",
       "        -18.82315284, -18.72175263, -18.62035242, -18.51895222,\n",
       "        -18.41755201, -18.3161518 , -18.21475159, -18.11335138,\n",
       "        -18.01195118, -17.91055097, -17.80915076, -17.70775055,\n",
       "        -17.60635034, -17.50495013, -17.40354993, -17.30214972,\n",
       "        -17.20074951, -17.0993493 , -16.99794909, -16.89654889,\n",
       "        -16.79514868, -16.69374847, -16.59234826, -16.49094805,\n",
       "        -16.38954785, -16.28814764, -16.18674743, -16.08534722,\n",
       "        -15.98394701, -15.88254681, -15.7811466 , -15.67974639,\n",
       "        -15.57834618, -15.47694597, -15.37554577, -15.27414556,\n",
       "        -15.17274535, -15.07134514, -14.96994493, -14.86854473,\n",
       "        -14.76714452, -14.66574431, -14.5643441 , -14.46294389,\n",
       "        -14.36154369, -14.26014348, -14.15874327, -14.05734306,\n",
       "        -13.95594285, -13.85454265, -13.75314244, -13.65174223,\n",
       "        -13.55034202, -13.44894181, -13.3475416 , -13.2461414 ,\n",
       "        -13.14474119, -13.04334098, -12.94194077, -12.84054056,\n",
       "        -12.73914036, -12.63774015, -12.53633994, -12.43493973,\n",
       "        -12.33353952, -12.23213932, -12.13073911, -12.0293389 ,\n",
       "        -11.92793869, -11.82653848, -11.72513828, -11.62373807,\n",
       "        -11.52233786, -11.42093765, -11.31953744, -11.21813724,\n",
       "        -11.11673703, -11.01533682, -10.91393661, -10.8125364 ,\n",
       "        -10.7111362 , -10.60973599, -10.50833578, -10.40693557,\n",
       "        -10.30553536, -10.20413516, -10.10273495, -10.00133474,\n",
       "         -9.89993453,  -9.79853432,  -9.69713411,  -9.59573391,\n",
       "         -9.4943337 ,  -9.39293349,  -9.29153328,  -9.19013307,\n",
       "         -9.08873287,  -8.98733266,  -8.88593245,  -8.78453224,\n",
       "         -8.68313203,  -8.58173183,  -8.48033162,  -8.37893141,\n",
       "         -8.2775312 ,  -8.17613099,  -8.07473079,  -7.97333058,\n",
       "         -7.87193037,  -7.77053016,  -7.66912995,  -7.56772975,\n",
       "         -7.46632954,  -7.36492933,  -7.26352912,  -7.16212891,\n",
       "         -7.06072871,  -6.9593285 ,  -6.85792829,  -6.75652808,\n",
       "         -6.65512787,  -6.55372767,  -6.45232746,  -6.35092725,\n",
       "         -6.24952704,  -6.14812683,  -6.04672662,  -5.94532642,\n",
       "         -5.84392621,  -5.742526  ,  -5.64112579,  -5.53972558,\n",
       "         -5.43832538,  -5.33692517,  -5.23552496,  -5.13412475,\n",
       "         -5.03272454,  -4.93132434,  -4.82992413,  -4.72852392,\n",
       "         -4.62712371,  -4.5257235 ,  -4.4243233 ,  -4.32292309,\n",
       "         -4.22152288,  -4.12012267,  -4.01872246,  -3.91732226,\n",
       "         -3.81592205,  -3.71452184,  -3.61312163,  -3.51172142,\n",
       "         -3.41032122,  -3.30892101,  -3.2075208 ,  -3.10612059,\n",
       "         -3.00472038,  -2.90332018,  -2.80191997,  -2.70051976,\n",
       "         -2.59911955,  -2.49771934,  -2.39631914,  -2.29491893,\n",
       "         -2.19351872,  -2.09211851,  -1.9907183 ,  -1.88931809,\n",
       "         -1.78791789,  -1.68651768,  -1.58511747,  -1.48371726,\n",
       "         -1.38231705,  -1.28091685,  -1.17951664,  -1.07811643,\n",
       "         -0.97671622,  -0.87531601,  -0.77391581,  -0.6725156 ,\n",
       "         -0.57111539,  -0.46971518,  -0.36831497,  -0.26691477,\n",
       "         -0.16551456,  -0.06411435,   0.03728586,   0.13868607,\n",
       "          0.24008627,   0.34148648,   0.44288669,   0.5442869 ,\n",
       "          0.64568711,   0.74708731,   0.84848752,   0.94988773,\n",
       "          1.05128794,   1.15268815,   1.25408835,   1.35548856,\n",
       "          1.45688877,   1.55828898,   1.65968919,   1.7610894 ,\n",
       "          1.8624896 ,   1.96388981,   2.06529002,   2.16669023,\n",
       "          2.26809044,   2.36949064,   2.47089085,   2.57229106,\n",
       "          2.67369127,   2.77509148,   2.87649168,   2.97789189,\n",
       "          3.0792921 ,   3.18069231,   3.28209252,   3.38349272,\n",
       "          3.48489293,   3.58629314,   3.68769335,   3.78909356,\n",
       "          3.89049376,   3.99189397,   4.09329418,   4.19469439,\n",
       "          4.2960946 ,   4.3974948 ,   4.49889501,   4.60029522,\n",
       "          4.70169543,   4.80309564,   4.90449584,   5.00589605,\n",
       "          5.10729626,   5.20869647,   5.31009668,   5.41149688,\n",
       "          5.51289709,   5.6142973 ,   5.71569751,   5.81709772,\n",
       "          5.91849793,   6.01989813,   6.12129834,   6.22269855,\n",
       "          6.32409876,   6.42549897,   6.52689917,   6.62829938,\n",
       "          6.72969959,   6.8310998 ,   6.93250001,   7.03390021,\n",
       "          7.13530042,   7.23670063,   7.33810084,   7.43950105,\n",
       "          7.54090125,   7.64230146,   7.74370167,   7.84510188,\n",
       "          7.94650209,   8.04790229,   8.1493025 ,   8.25070271,\n",
       "          8.35210292,   8.45350313,   8.55490333,   8.65630354,\n",
       "          8.75770375,   8.85910396,   8.96050417,   9.06190437,\n",
       "          9.16330458,   9.26470479,   9.366105  ,   9.46750521,\n",
       "          9.56890542,   9.67030562,   9.77170583,   9.87310604,\n",
       "          9.97450625,  10.07590646,  10.17730666,  10.27870687,\n",
       "         10.38010708,  10.48150729,  10.5829075 ,  10.6843077 ,\n",
       "         10.78570791,  10.88710812,  10.98850833,  11.08990854,\n",
       "         11.19130874,  11.29270895,  11.39410916,  11.49550937,\n",
       "         11.59690958,  11.69830978,  11.79970999,  11.9011102 ,\n",
       "         12.00251041,  12.10391062,  12.20531082,  12.30671103,\n",
       "         12.40811124,  12.50951145,  12.61091166,  12.71231186,\n",
       "         12.81371207,  12.91511228,  13.01651249,  13.1179127 ,\n",
       "         13.21931291,  13.32071311,  13.42211332,  13.52351353,\n",
       "         13.62491374,  13.72631395,  13.82771415,  13.92911436,\n",
       "         14.03051457,  14.13191478,  14.23331499,  14.33471519,\n",
       "         14.4361154 ,  14.53751561,  14.63891582,  14.74031603,\n",
       "         14.84171623,  14.94311644,  15.04451665,  15.14591686,\n",
       "         15.24731707,  15.34871727,  15.45011748,  15.55151769,\n",
       "         15.6529179 ,  15.75431811,  15.85571831,  15.95711852,\n",
       "         16.05851873,  16.15991894,  16.26131915,  16.36271935,\n",
       "         16.46411956,  16.56551977,  16.66691998,  16.76832019,\n",
       "         16.86972039,  16.9711206 ,  17.07252081,  17.17392102,\n",
       "         17.27532123,  17.37672144,  17.47812164,  17.57952185,\n",
       "         17.68092206,  17.78232227,  17.88372248,  17.98512268,\n",
       "         18.08652289,  18.1879231 ,  18.28932331,  18.39072352,\n",
       "         18.49212372,  18.59352393,  18.69492414,  18.79632435,\n",
       "         18.89772456,  18.99912476,  19.10052497,  19.20192518,\n",
       "         19.30332539,  19.4047256 ,  19.5061258 ,  19.60752601,\n",
       "         19.70892622,  19.81032643,  19.91172664,  20.01312684,\n",
       "         20.11452705,  20.21592726,  20.31732747,  20.41872768,\n",
       "         20.52012788,  20.62152809,  20.7229283 ,  20.82432851,\n",
       "         20.92572872,  21.02712893,  21.12852913,  21.22992934,\n",
       "         21.33132955,  21.43272976,  21.53412997,  21.63553017,\n",
       "         21.73693038,  21.83833059,  21.9397308 ,  22.04113101,\n",
       "         22.14253121,  22.24393142,  22.34533163,  22.44673184,\n",
       "         22.54813205,  22.64953225,  22.75093246,  22.85233267,\n",
       "         22.95373288,  23.05513309,  23.15653329,  23.2579335 ,\n",
       "         23.35933371,  23.46073392,  23.56213413,  23.66353433,\n",
       "         23.76493454,  23.86633475,  23.96773496,  24.06913517,\n",
       "         24.17053537,  24.27193558,  24.37333579,  24.474736  ,\n",
       "         24.57613621,  24.67753641,  24.77893662,  24.88033683,\n",
       "         24.98173704,  25.08313725,  25.18453746,  25.28593766,\n",
       "         25.38733787,  25.48873808,  25.59013829,  25.6915385 ,\n",
       "         25.7929387 ,  25.89433891,  25.99573912,  26.09713933,\n",
       "         26.19853954,  26.29993974,  26.40133995,  26.50274016,\n",
       "         26.60414037,  26.70554058,  26.80694078,  26.90834099,\n",
       "         27.0097412 ,  27.11114141,  27.21254162,  27.31394182,\n",
       "         27.41534203,  27.51674224,  27.61814245,  27.71954266,  27.82094286]),\n",
       " <a list of 500 Patch objects>)"
      ]
     },
     "execution_count": 5,
     "metadata": {},
     "output_type": "execute_result"
    },
    {
     "data": {
      "image/png": "[encoded data removed]",
      "text/plain": [
       "<matplotlib.figure.Figure at 0x107f9a4a8>"
      ]
     },
     "metadata": {},
     "output_type": "display_data"
    }
   ],
   "source": [
    "plt.hist(sum,500)"
   ]
  },
  {
   "cell_type": "code",
   "execution_count": 6,
   "metadata": {},
   "outputs": [
    {
     "data": {
      "text/plain": [
       "53.12462862233842"
      ]
     },
     "execution_count": 6,
     "metadata": {},
     "output_type": "execute_result"
    }
   ],
   "source": [
    "np.var(sum)"
   ]
  },
  {
   "cell_type": "code",
   "execution_count": 7,
   "metadata": {},
   "outputs": [
    {
     "data": {
      "text/plain": [
       "0.5242653583063247"
      ]
     },
     "execution_count": 7,
     "metadata": {},
     "output_type": "execute_result"
    }
   ],
   "source": [
    "np.mean(sum)"
   ]
  },
  {
   "cell_type": "code",
   "execution_count": null,
   "metadata": {
    "collapsed": true
   },
   "outputs": [],
   "source": []
  },
  {
   "cell_type": "code",
   "execution_count": null,
   "metadata": {
    "collapsed": true
   },
   "outputs": [],
   "source": []
  },
  {
   "cell_type": "code",
   "execution_count": null,
   "metadata": {
    "collapsed": true
   },
   "outputs": [],
   "source": []
  },
  {
   "cell_type": "code",
   "execution_count": 21,
   "metadata": {
    "collapsed": true
   },
   "outputs": [],
   "source": [
    "z = np.random.normal(0,5,25000)"
   ]
  },
  {
   "cell_type": "code",
   "execution_count": 9,
   "metadata": {},
   "outputs": [],
   "source": [
    "mean = np.sum(z)/25000"
   ]
  },
  {
   "cell_type": "code",
   "execution_count": 10,
   "metadata": {},
   "outputs": [
    {
     "data": {
      "text/plain": [
       "-0.018639662116340657"
      ]
     },
     "execution_count": 10,
     "metadata": {},
     "output_type": "execute_result"
    }
   ],
   "source": [
    "mean"
   ]
  },
  {
   "cell_type": "code",
   "execution_count": 11,
   "metadata": {},
   "outputs": [
    {
     "data": {
      "text/plain": [
       "array([  1.48980126e-01,   5.77479481e-02,   2.04939978e+02, ...,\n",
       "         5.85210300e+01,   7.60601939e-02,   2.32027093e-01])"
      ]
     },
     "execution_count": 11,
     "metadata": {},
     "output_type": "execute_result"
    }
   ],
   "source": [
    "np.square(z - mean)"
   ]
  },
  {
   "cell_type": "code",
   "execution_count": 12,
   "metadata": {
    "collapsed": true
   },
   "outputs": [],
   "source": [
    "sumZ = np.sum(np.square(z - mean))"
   ]
  },
  {
   "cell_type": "code",
   "execution_count": 13,
   "metadata": {},
   "outputs": [],
   "source": [
    "var = sumZ/(25000-1)"
   ]
  },
  {
   "cell_type": "code",
   "execution_count": 14,
   "metadata": {},
   "outputs": [],
   "source": [
    "stddevZ = np.sqrt(var)"
   ]
  },
  {
   "cell_type": "code",
   "execution_count": 15,
   "metadata": {},
   "outputs": [
    {
     "data": {
      "text/plain": [
       "4.9956624530393139"
      ]
     },
     "execution_count": 15,
     "metadata": {},
     "output_type": "execute_result"
    }
   ],
   "source": [
    "stddevZ"
   ]
  },
  {
   "cell_type": "code",
   "execution_count": null,
   "metadata": {
    "collapsed": true
   },
   "outputs": [],
   "source": []
  },
  {
   "cell_type": "code",
   "execution_count": null,
   "metadata": {
    "collapsed": true
   },
   "outputs": [],
   "source": []
  },
  {
   "cell_type": "code",
   "execution_count": 24,
   "metadata": {},
   "outputs": [],
   "source": [
    "x2d = np.random.multivariate_normal((-5,5), np.matrix([[20, .8],[.8, 30]]), 10000)"
   ]
  },
  {
   "cell_type": "code",
   "execution_count": 17,
   "metadata": {},
   "outputs": [
    {
     "data": {
      "image/png": "[encoded data removed]",
      "text/plain": [
       "<matplotlib.figure.Figure at 0x10802f390>"
      ]
     },
     "metadata": {},
     "output_type": "display_data"
    }
   ],
   "source": [
    "plt.imshow(x2d, interpolation=\"nearest\", origin=\"upper\")\n",
    "plt.colorbar()\n",
    "plt.show()"
   ]
  },
  {
   "cell_type": "code",
   "execution_count": 25,
   "metadata": {},
   "outputs": [
    {
     "data": {
      "text/plain": [
       "array([[ -4.72500991,   7.6239087 ],\n",
       "       [ -1.97985243,  13.93724468],\n",
       "       [ -5.55421082,   6.68581486],\n",
       "       ..., \n",
       "       [ -5.41742576,   8.82928465],\n",
       "       [ -2.65976123,  -1.40127069],\n",
       "       [  1.31374602,   8.61190016]])"
      ]
     },
     "execution_count": 25,
     "metadata": {},
     "output_type": "execute_result"
    }
   ],
   "source": [
    "x2d"
   ]
  },
  {
   "cell_type": "code",
   "execution_count": 26,
   "metadata": {},
   "outputs": [
    {
     "data": {
      "text/plain": [
       "array([-5.00704512,  5.03811993])"
      ]
     },
     "execution_count": 26,
     "metadata": {},
     "output_type": "execute_result"
    }
   ],
   "source": [
    "np.mean(x2d, axis=0)"
   ]
  },
  {
   "cell_type": "code",
   "execution_count": 35,
   "metadata": {},
   "outputs": [],
   "source": [
    "mean2d = np.sum(x2d,axis=0)/10000"
   ]
  },
  {
   "cell_type": "code",
   "execution_count": 37,
   "metadata": {},
   "outputs": [
    {
     "data": {
      "text/plain": [
       "array([ 0.28203521,  3.02719269, -0.5471657 , ..., -0.41038065,\n",
       "        2.34728389,  6.32079114])"
      ]
     },
     "execution_count": 37,
     "metadata": {},
     "output_type": "execute_result"
    }
   ],
   "source": [
    "x2d[:,0]-  mean2d[0]"
   ]
  },
  {
   "cell_type": "code",
   "execution_count": 40,
   "metadata": {},
   "outputs": [
    {
     "data": {
      "text/plain": [
       "20.033971169021207"
      ]
     },
     "execution_count": 40,
     "metadata": {},
     "output_type": "execute_result"
    }
   ],
   "source": [
    "np.sum(np.square(x2d[:,0]-  mean2d[0]))/10000"
   ]
  },
  {
   "cell_type": "code",
   "execution_count": null,
   "metadata": {
    "collapsed": true
   },
   "outputs": [],
   "source": []
  }
 ],
 "metadata": {
  "kernelspec": {
   "display_name": "Python 3",
   "language": "python",
   "name": "python3"
  },
  "language_info": {
   "codemirror_mode": {
    "name": "ipython",
    "version": 3
   },
   "file_extension": ".py",
   "mimetype": "text/x-python",
   "name": "python",
   "nbconvert_exporter": "python",
   "pygments_lexer": "ipython3",
   "version": "3.6.2"
  }
 },
 "nbformat": 4,
 "nbformat_minor": 2
}
