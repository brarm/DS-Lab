{
 "cells": [
  {
   "cell_type": "code",
   "execution_count": 1,
   "metadata": {},
   "outputs": [],
   "source": [
    "import numpy as np\n",
    "import pandas as pd\n",
    "import matplotlib.pyplot as plt\n",
    "%matplotlib inline"
   ]
  },
  {
   "cell_type": "markdown",
   "metadata": {},
   "source": [
    "# Question 1"
   ]
  },
  {
   "cell_type": "code",
   "execution_count": 2,
   "metadata": {
    "collapsed": true
   },
   "outputs": [],
   "source": [
    "x = np.random.normal(-10,5,1000)"
   ]
  },
  {
   "cell_type": "code",
   "execution_count": 3,
   "metadata": {
    "collapsed": true
   },
   "outputs": [],
   "source": [
    "y = np.random.normal(10,5,1000)"
   ]
  },
  {
   "cell_type": "code",
   "execution_count": 4,
   "metadata": {
    "collapsed": true
   },
   "outputs": [],
   "source": [
    "sum = x+y"
   ]
  },
  {
   "cell_type": "code",
   "execution_count": 5,
   "metadata": {},
   "outputs": [
    {
     "data": {
      "text/plain": [
       "(array([  1.,   1.,   0.,   0.,   0.,   0.,   0.,   0.,   0.,   0.,   0.,\n",
       "          0.,   1.,   0.,   0.,   1.,   0.,   0.,   0.,   0.,   1.,   0.,\n",
       "          1.,   0.,   0.,   1.,   1.,   0.,   1.,   0.,   0.,   0.,   0.,\n",
       "          0.,   0.,   1.,   0.,   0.,   0.,   1.,   0.,   0.,   0.,   0.,\n",
       "          1.,   0.,   1.,   0.,   1.,   0.,   0.,   0.,   1.,   1.,   0.,\n",
       "          0.,   0.,   0.,   0.,   1.,   1.,   0.,   0.,   0.,   1.,   1.,\n",
       "          2.,   0.,   0.,   1.,   0.,   0.,   0.,   1.,   2.,   1.,   1.,\n",
       "          0.,   0.,   0.,   0.,   0.,   1.,   0.,   1.,   0.,   0.,   1.,\n",
       "          2.,   0.,   0.,   0.,   0.,   1.,   1.,   1.,   1.,   2.,   1.,\n",
       "          1.,   2.,   5.,   3.,   0.,   2.,   1.,   3.,   2.,   4.,   1.,\n",
       "          0.,   2.,   3.,   3.,   0.,   0.,   1.,   2.,   1.,   2.,   1.,\n",
       "          3.,   0.,   1.,   1.,   2.,   1.,   1.,   3.,   0.,   2.,   1.,\n",
       "          4.,   3.,   2.,   2.,   1.,   4.,   6.,   1.,   2.,   3.,   6.,\n",
       "          4.,   1.,   3.,   2.,   6.,   1.,   2.,   2.,   0.,   1.,   1.,\n",
       "          2.,   5.,   3.,   2.,   3.,   0.,   5.,   3.,   4.,   2.,   1.,\n",
       "          7.,   2.,   3.,   3.,   2.,   2.,   6.,   6.,   3.,   4.,   5.,\n",
       "          3.,   0.,   3.,   8.,   9.,   1.,   4.,   4.,   2.,   6.,   4.,\n",
       "          6.,   3.,   0.,   9.,   1.,   5.,   1.,   6.,   5.,   4.,   5.,\n",
       "          5.,   3.,   4.,   3.,   6.,   7.,  10.,   2.,   6.,   8.,   2.,\n",
       "          0.,   4.,   3.,   7.,   8.,   8.,   0.,   6.,   5.,   6.,   4.,\n",
       "          5.,   1.,   1.,   6.,   1.,   6.,   6.,   9.,   4.,   2.,   2.,\n",
       "          5.,   1.,   3.,   4.,   8.,   5.,   2.,   6.,   6.,   8.,   1.,\n",
       "          6.,   6.,   6.,   4.,   3.,   2.,   3.,   4.,   2.,   5.,   4.,\n",
       "          4.,   9.,   9.,   6.,   6.,   3.,   2.,   3.,   4.,   3.,   6.,\n",
       "          2.,   5.,   3.,   2.,   8.,   3.,   3.,   6.,   2.,   0.,   4.,\n",
       "          3.,   6.,   4.,   5.,   6.,   4.,   2.,   4.,   3.,   4.,   3.,\n",
       "          6.,   5.,   4.,   4.,   5.,   4.,   2.,   5.,   3.,   5.,   3.,\n",
       "          7.,   2.,   1.,   2.,   3.,   6.,   7.,   8.,   5.,   3.,   2.,\n",
       "          1.,   3.,   3.,   1.,   5.,   4.,   3.,   9.,   2.,   6.,   3.,\n",
       "          1.,   6.,   9.,   2.,   0.,   3.,   2.,   2.,   4.,   6.,   1.,\n",
       "          1.,   4.,   1.,   4.,   4.,   3.,   2.,   0.,   7.,   4.,   3.,\n",
       "          2.,   1.,   0.,   1.,   2.,   2.,   2.,   1.,   1.,   4.,   3.,\n",
       "          3.,   1.,   4.,   0.,   3.,   0.,   2.,   0.,   3.,   2.,   0.,\n",
       "          1.,   0.,   1.,   2.,   2.,   4.,   1.,   1.,   1.,   0.,   0.,\n",
       "          1.,   0.,   1.,   2.,   2.,   2.,   2.,   0.,   1.,   3.,   1.,\n",
       "          0.,   2.,   2.,   0.,   1.,   1.,   0.,   2.,   1.,   2.,   0.,\n",
       "          0.,   0.,   1.,   0.,   1.,   0.,   0.,   0.,   0.,   0.,   1.,\n",
       "          0.,   0.,   1.,   2.,   1.,   0.,   3.,   0.,   1.,   2.,   1.,\n",
       "          0.,   1.,   0.,   0.,   1.,   0.,   0.,   0.,   1.,   0.,   0.,\n",
       "          2.,   0.,   0.,   0.,   1.,   0.,   0.,   1.,   1.,   0.,   0.,\n",
       "          0.,   0.,   0.,   0.,   0.,   0.,   0.,   0.,   0.,   0.,   0.,\n",
       "          1.,   0.,   1.,   1.,   1.,   0.,   0.,   0.,   0.,   1.,   0.,\n",
       "          0.,   0.,   0.,   0.,   0.,   0.,   0.,   0.,   0.,   0.,   0.,\n",
       "          0.,   0.,   0.,   0.,   0.,   0.,   0.,   0.,   1.,   0.,   0.,\n",
       "          0.,   0.,   0.,   0.,   0.,   0.,   0.,   0.,   0.,   0.,   0.,\n",
       "          0.,   0.,   0.,   0.,   1.]),\n",
       " array([-21.24189452, -21.1531501 , -21.06440567, -20.97566125,\n",
       "        -20.88691683, -20.79817241, -20.70942798, -20.62068356,\n",
       "        -20.53193914, -20.44319472, -20.35445029, -20.26570587,\n",
       "        -20.17696145, -20.08821703, -19.9994726 , -19.91072818,\n",
       "        -19.82198376, -19.73323934, -19.64449492, -19.55575049,\n",
       "        -19.46700607, -19.37826165, -19.28951723, -19.2007728 ,\n",
       "        -19.11202838, -19.02328396, -18.93453954, -18.84579511,\n",
       "        -18.75705069, -18.66830627, -18.57956185, -18.49081742,\n",
       "        -18.402073  , -18.31332858, -18.22458416, -18.13583973,\n",
       "        -18.04709531, -17.95835089, -17.86960647, -17.78086204,\n",
       "        -17.69211762, -17.6033732 , -17.51462878, -17.42588435,\n",
       "        -17.33713993, -17.24839551, -17.15965109, -17.07090666,\n",
       "        -16.98216224, -16.89341782, -16.8046734 , -16.71592897,\n",
       "        -16.62718455, -16.53844013, -16.44969571, -16.36095129,\n",
       "        -16.27220686, -16.18346244, -16.09471802, -16.0059736 ,\n",
       "        -15.91722917, -15.82848475, -15.73974033, -15.65099591,\n",
       "        -15.56225148, -15.47350706, -15.38476264, -15.29601822,\n",
       "        -15.20727379, -15.11852937, -15.02978495, -14.94104053,\n",
       "        -14.8522961 , -14.76355168, -14.67480726, -14.58606284,\n",
       "        -14.49731841, -14.40857399, -14.31982957, -14.23108515,\n",
       "        -14.14234072, -14.0535963 , -13.96485188, -13.87610746,\n",
       "        -13.78736303, -13.69861861, -13.60987419, -13.52112977,\n",
       "        -13.43238535, -13.34364092, -13.2548965 , -13.16615208,\n",
       "        -13.07740766, -12.98866323, -12.89991881, -12.81117439,\n",
       "        -12.72242997, -12.63368554, -12.54494112, -12.4561967 ,\n",
       "        -12.36745228, -12.27870785, -12.18996343, -12.10121901,\n",
       "        -12.01247459, -11.92373016, -11.83498574, -11.74624132,\n",
       "        -11.6574969 , -11.56875247, -11.48000805, -11.39126363,\n",
       "        -11.30251921, -11.21377478, -11.12503036, -11.03628594,\n",
       "        -10.94754152, -10.85879709, -10.77005267, -10.68130825,\n",
       "        -10.59256383, -10.5038194 , -10.41507498, -10.32633056,\n",
       "        -10.23758614, -10.14884172, -10.06009729,  -9.97135287,\n",
       "         -9.88260845,  -9.79386403,  -9.7051196 ,  -9.61637518,\n",
       "         -9.52763076,  -9.43888634,  -9.35014191,  -9.26139749,\n",
       "         -9.17265307,  -9.08390865,  -8.99516422,  -8.9064198 ,\n",
       "         -8.81767538,  -8.72893096,  -8.64018653,  -8.55144211,\n",
       "         -8.46269769,  -8.37395327,  -8.28520884,  -8.19646442,\n",
       "         -8.10772   ,  -8.01897558,  -7.93023115,  -7.84148673,\n",
       "         -7.75274231,  -7.66399789,  -7.57525346,  -7.48650904,\n",
       "         -7.39776462,  -7.3090202 ,  -7.22027577,  -7.13153135,\n",
       "         -7.04278693,  -6.95404251,  -6.86529809,  -6.77655366,\n",
       "         -6.68780924,  -6.59906482,  -6.5103204 ,  -6.42157597,\n",
       "         -6.33283155,  -6.24408713,  -6.15534271,  -6.06659828,\n",
       "         -5.97785386,  -5.88910944,  -5.80036502,  -5.71162059,\n",
       "         -5.62287617,  -5.53413175,  -5.44538733,  -5.3566429 ,\n",
       "         -5.26789848,  -5.17915406,  -5.09040964,  -5.00166521,\n",
       "         -4.91292079,  -4.82417637,  -4.73543195,  -4.64668752,\n",
       "         -4.5579431 ,  -4.46919868,  -4.38045426,  -4.29170983,\n",
       "         -4.20296541,  -4.11422099,  -4.02547657,  -3.93673215,\n",
       "         -3.84798772,  -3.7592433 ,  -3.67049888,  -3.58175446,\n",
       "         -3.49301003,  -3.40426561,  -3.31552119,  -3.22677677,\n",
       "         -3.13803234,  -3.04928792,  -2.9605435 ,  -2.87179908,\n",
       "         -2.78305465,  -2.69431023,  -2.60556581,  -2.51682139,\n",
       "         -2.42807696,  -2.33933254,  -2.25058812,  -2.1618437 ,\n",
       "         -2.07309927,  -1.98435485,  -1.89561043,  -1.80686601,\n",
       "         -1.71812158,  -1.62937716,  -1.54063274,  -1.45188832,\n",
       "         -1.36314389,  -1.27439947,  -1.18565505,  -1.09691063,\n",
       "         -1.0081662 ,  -0.91942178,  -0.83067736,  -0.74193294,\n",
       "         -0.65318852,  -0.56444409,  -0.47569967,  -0.38695525,\n",
       "         -0.29821083,  -0.2094664 ,  -0.12072198,  -0.03197756,\n",
       "          0.05676686,   0.14551129,   0.23425571,   0.32300013,\n",
       "          0.41174455,   0.50048898,   0.5892334 ,   0.67797782,\n",
       "          0.76672224,   0.85546667,   0.94421109,   1.03295551,\n",
       "          1.12169993,   1.21044436,   1.29918878,   1.3879332 ,\n",
       "          1.47667762,   1.56542205,   1.65416647,   1.74291089,\n",
       "          1.83165531,   1.92039974,   2.00914416,   2.09788858,\n",
       "          2.186633  ,   2.27537743,   2.36412185,   2.45286627,\n",
       "          2.54161069,   2.63035511,   2.71909954,   2.80784396,\n",
       "          2.89658838,   2.9853328 ,   3.07407723,   3.16282165,\n",
       "          3.25156607,   3.34031049,   3.42905492,   3.51779934,\n",
       "          3.60654376,   3.69528818,   3.78403261,   3.87277703,\n",
       "          3.96152145,   4.05026587,   4.1390103 ,   4.22775472,\n",
       "          4.31649914,   4.40524356,   4.49398799,   4.58273241,\n",
       "          4.67147683,   4.76022125,   4.84896568,   4.9377101 ,\n",
       "          5.02645452,   5.11519894,   5.20394337,   5.29268779,\n",
       "          5.38143221,   5.47017663,   5.55892105,   5.64766548,\n",
       "          5.7364099 ,   5.82515432,   5.91389874,   6.00264317,\n",
       "          6.09138759,   6.18013201,   6.26887643,   6.35762086,\n",
       "          6.44636528,   6.5351097 ,   6.62385412,   6.71259855,\n",
       "          6.80134297,   6.89008739,   6.97883181,   7.06757624,\n",
       "          7.15632066,   7.24506508,   7.3338095 ,   7.42255393,\n",
       "          7.51129835,   7.60004277,   7.68878719,   7.77753162,\n",
       "          7.86627604,   7.95502046,   8.04376488,   8.13250931,\n",
       "          8.22125373,   8.30999815,   8.39874257,   8.487487  ,\n",
       "          8.57623142,   8.66497584,   8.75372026,   8.84246468,\n",
       "          8.93120911,   9.01995353,   9.10869795,   9.19744237,\n",
       "          9.2861868 ,   9.37493122,   9.46367564,   9.55242006,\n",
       "          9.64116449,   9.72990891,   9.81865333,   9.90739775,\n",
       "          9.99614218,  10.0848866 ,  10.17363102,  10.26237544,\n",
       "         10.35111987,  10.43986429,  10.52860871,  10.61735313,\n",
       "         10.70609756,  10.79484198,  10.8835864 ,  10.97233082,\n",
       "         11.06107525,  11.14981967,  11.23856409,  11.32730851,\n",
       "         11.41605294,  11.50479736,  11.59354178,  11.6822862 ,\n",
       "         11.77103063,  11.85977505,  11.94851947,  12.03726389,\n",
       "         12.12600831,  12.21475274,  12.30349716,  12.39224158,\n",
       "         12.480986  ,  12.56973043,  12.65847485,  12.74721927,\n",
       "         12.83596369,  12.92470812,  13.01345254,  13.10219696,\n",
       "         13.19094138,  13.27968581,  13.36843023,  13.45717465,\n",
       "         13.54591907,  13.6346635 ,  13.72340792,  13.81215234,\n",
       "         13.90089676,  13.98964119,  14.07838561,  14.16713003,\n",
       "         14.25587445,  14.34461888,  14.4333633 ,  14.52210772,\n",
       "         14.61085214,  14.69959657,  14.78834099,  14.87708541,\n",
       "         14.96582983,  15.05457425,  15.14331868,  15.2320631 ,\n",
       "         15.32080752,  15.40955194,  15.49829637,  15.58704079,\n",
       "         15.67578521,  15.76452963,  15.85327406,  15.94201848,\n",
       "         16.0307629 ,  16.11950732,  16.20825175,  16.29699617,\n",
       "         16.38574059,  16.47448501,  16.56322944,  16.65197386,\n",
       "         16.74071828,  16.8294627 ,  16.91820713,  17.00695155,\n",
       "         17.09569597,  17.18444039,  17.27318482,  17.36192924,\n",
       "         17.45067366,  17.53941808,  17.62816251,  17.71690693,\n",
       "         17.80565135,  17.89439577,  17.9831402 ,  18.07188462,\n",
       "         18.16062904,  18.24937346,  18.33811788,  18.42686231,\n",
       "         18.51560673,  18.60435115,  18.69309557,  18.78184   ,\n",
       "         18.87058442,  18.95932884,  19.04807326,  19.13681769,\n",
       "         19.22556211,  19.31430653,  19.40305095,  19.49179538,\n",
       "         19.5805398 ,  19.66928422,  19.75802864,  19.84677307,\n",
       "         19.93551749,  20.02426191,  20.11300633,  20.20175076,\n",
       "         20.29049518,  20.3792396 ,  20.46798402,  20.55672845,\n",
       "         20.64547287,  20.73421729,  20.82296171,  20.91170614,\n",
       "         21.00045056,  21.08919498,  21.1779394 ,  21.26668383,\n",
       "         21.35542825,  21.44417267,  21.53291709,  21.62166151,\n",
       "         21.71040594,  21.79915036,  21.88789478,  21.9766392 ,\n",
       "         22.06538363,  22.15412805,  22.24287247,  22.33161689,\n",
       "         22.42036132,  22.50910574,  22.59785016,  22.68659458,\n",
       "         22.77533901,  22.86408343,  22.95282785,  23.04157227,  23.1303167 ]),\n",
       " <a list of 500 Patch objects>)"
      ]
     },
     "execution_count": 5,
     "metadata": {},
     "output_type": "execute_result"
    },
    {
     "data": {
      "image/png": "[encoded data removed]",
      "text/plain": [
       "<matplotlib.figure.Figure at 0x119221110>"
      ]
     },
     "metadata": {},
     "output_type": "display_data"
    }
   ],
   "source": [
    "plt.hist(sum,500)"
   ]
  },
  {
   "cell_type": "code",
   "execution_count": 6,
   "metadata": {},
   "outputs": [
    {
     "data": {
      "text/plain": [
       "55.166402108440678"
      ]
     },
     "execution_count": 6,
     "metadata": {},
     "output_type": "execute_result"
    }
   ],
   "source": [
    "np.var(sum)"
   ]
  },
  {
   "cell_type": "code",
   "execution_count": 7,
   "metadata": {},
   "outputs": [
    {
     "data": {
      "text/plain": [
       "0.04035768618159534"
      ]
     },
     "execution_count": 7,
     "metadata": {},
     "output_type": "execute_result"
    }
   ],
   "source": [
    "np.mean(sum)"
   ]
  },
  {
   "cell_type": "markdown",
   "metadata": {},
   "source": [
    "# Question 2"
   ]
  },
  {
   "cell_type": "code",
   "execution_count": 8,
   "metadata": {},
   "outputs": [
    {
     "data": {
      "text/plain": [
       "(array([  2.,   0.,   0.,   0.,   0.,   0.,   1.,   1.,   0.,   1.,   2.,\n",
       "          0.,   4.,   2.,   0.,   2.,   4.,   0.,   3.,   5.,   0.,   5.,\n",
       "          7.,   0.,   0.,  10.,   0.,  12.,  13.,   0.,  14.,  24.,   0.,\n",
       "         12.,  21.,   0.,  27.,  26.,   0.,  32.,  27.,   0.,  25.,  40.,\n",
       "          0.,  34.,  28.,   0.,  30.,   0.,  33.,  39.,   0.,  33.,  38.,\n",
       "          0.,  30.,  42.,   0.,  33.,  39.,   0.,  35.,  29.,   0.,  21.,\n",
       "         26.,   0.,  22.,  19.,   0.,  20.,  16.,   0.,  13.,  12.,   0.,\n",
       "         16.,  12.,   0.,   5.,   7.,   0.,  11.,   9.,   0.,   6.,   3.,\n",
       "          0.,   8.,   1.,   0.,   3.,   1.,   0.,   0.,   1.,   0.,   2.,\n",
       "          1.]), array([ -1.40000000e-01,  -1.37360000e-01,  -1.34720000e-01,\n",
       "         -1.32080000e-01,  -1.29440000e-01,  -1.26800000e-01,\n",
       "         -1.24160000e-01,  -1.21520000e-01,  -1.18880000e-01,\n",
       "         -1.16240000e-01,  -1.13600000e-01,  -1.10960000e-01,\n",
       "         -1.08320000e-01,  -1.05680000e-01,  -1.03040000e-01,\n",
       "         -1.00400000e-01,  -9.77600000e-02,  -9.51200000e-02,\n",
       "         -9.24800000e-02,  -8.98400000e-02,  -8.72000000e-02,\n",
       "         -8.45600000e-02,  -8.19200000e-02,  -7.92800000e-02,\n",
       "         -7.66400000e-02,  -7.40000000e-02,  -7.13600000e-02,\n",
       "         -6.87200000e-02,  -6.60800000e-02,  -6.34400000e-02,\n",
       "         -6.08000000e-02,  -5.81600000e-02,  -5.55200000e-02,\n",
       "         -5.28800000e-02,  -5.02400000e-02,  -4.76000000e-02,\n",
       "         -4.49600000e-02,  -4.23200000e-02,  -3.96800000e-02,\n",
       "         -3.70400000e-02,  -3.44000000e-02,  -3.17600000e-02,\n",
       "         -2.91200000e-02,  -2.64800000e-02,  -2.38400000e-02,\n",
       "         -2.12000000e-02,  -1.85600000e-02,  -1.59200000e-02,\n",
       "         -1.32800000e-02,  -1.06400000e-02,  -8.00000000e-03,\n",
       "         -5.36000000e-03,  -2.72000000e-03,  -8.00000000e-05,\n",
       "          2.56000000e-03,   5.20000000e-03,   7.84000000e-03,\n",
       "          1.04800000e-02,   1.31200000e-02,   1.57600000e-02,\n",
       "          1.84000000e-02,   2.10400000e-02,   2.36800000e-02,\n",
       "          2.63200000e-02,   2.89600000e-02,   3.16000000e-02,\n",
       "          3.42400000e-02,   3.68800000e-02,   3.95200000e-02,\n",
       "          4.21600000e-02,   4.48000000e-02,   4.74400000e-02,\n",
       "          5.00800000e-02,   5.27200000e-02,   5.53600000e-02,\n",
       "          5.80000000e-02,   6.06400000e-02,   6.32800000e-02,\n",
       "          6.59200000e-02,   6.85600000e-02,   7.12000000e-02,\n",
       "          7.38400000e-02,   7.64800000e-02,   7.91200000e-02,\n",
       "          8.17600000e-02,   8.44000000e-02,   8.70400000e-02,\n",
       "          8.96800000e-02,   9.23200000e-02,   9.49600000e-02,\n",
       "          9.76000000e-02,   1.00240000e-01,   1.02880000e-01,\n",
       "          1.05520000e-01,   1.08160000e-01,   1.10800000e-01,\n",
       "          1.13440000e-01,   1.16080000e-01,   1.18720000e-01,\n",
       "          1.21360000e-01,   1.24000000e-01]), <a list of 100 Patch objects>)"
      ]
     },
     "execution_count": 8,
     "metadata": {},
     "output_type": "execute_result"
    },
    {
     "data": {
      "image/png": "[encoded data removed]",
      "text/plain": [
       "<matplotlib.figure.Figure at 0x11c80fb10>"
      ]
     },
     "metadata": {},
     "output_type": "display_data"
    },
    {
     "data": {
      "image/png": "[encoded data removed]",
      "text/plain": [
       "<matplotlib.figure.Figure at 0x119180f50>"
      ]
     },
     "metadata": {},
     "output_type": "display_data"
    },
    {
     "data": {
      "image/png": "[encoded data removed]",
      "text/plain": [
       "<matplotlib.figure.Figure at 0x110bee4d0>"
      ]
     },
     "metadata": {},
     "output_type": "display_data"
    },
    {
     "data": {
      "image/png": "[encoded data removed]",
      "text/plain": [
       "<matplotlib.figure.Figure at 0x11d3aba50>"
      ]
     },
     "metadata": {},
     "output_type": "display_data"
    }
   ],
   "source": [
    "def F(n):\n",
    "    return np.sum([-1 if (x == 0) else 1 for x in np.random.binomial(1, 0.5, n)]) / float(n)\n",
    "\n",
    "list = [F(5) for i in range (1000)];\n",
    "plt.hist(list)\n",
    "plt.figure()\n",
    "\n",
    "list = [F(50) for i in range(1000)]\n",
    "plt.hist(list, bins=10, range=[-1,1])\n",
    "plt.figure()\n",
    "\n",
    "list = [F(250) for i in range(1000)]\n",
    "plt.hist(list, bins=50)\n",
    "plt.figure()\n",
    "\n",
    "list = [F(500) for i in range(1000)]\n",
    "plt.hist(list, bins=100)"
   ]
  },
  {
   "cell_type": "markdown",
   "metadata": {
    "collapsed": true
   },
   "source": [
    "# Question 3"
   ]
  },
  {
   "cell_type": "code",
   "execution_count": 9,
   "metadata": {
    "collapsed": true
   },
   "outputs": [],
   "source": [
    "z = np.random.normal(0,5,25000)"
   ]
  },
  {
   "cell_type": "code",
   "execution_count": 10,
   "metadata": {
    "collapsed": true
   },
   "outputs": [],
   "source": [
    "mean = np.sum(z)/25000"
   ]
  },
  {
   "cell_type": "code",
   "execution_count": 11,
   "metadata": {},
   "outputs": [
    {
     "data": {
      "text/plain": [
       "0.0064594300289153419"
      ]
     },
     "execution_count": 11,
     "metadata": {},
     "output_type": "execute_result"
    }
   ],
   "source": [
    "mean"
   ]
  },
  {
   "cell_type": "code",
   "execution_count": 12,
   "metadata": {},
   "outputs": [
    {
     "data": {
      "text/plain": [
       "array([  2.44331698,   1.36577796,  16.84741381, ...,  31.24538258,\n",
       "         5.93941109,   3.72500662])"
      ]
     },
     "execution_count": 12,
     "metadata": {},
     "output_type": "execute_result"
    }
   ],
   "source": [
    "np.square(z - mean)"
   ]
  },
  {
   "cell_type": "code",
   "execution_count": 13,
   "metadata": {
    "collapsed": true
   },
   "outputs": [],
   "source": [
    "sumZ = np.sum(np.square(z - mean))"
   ]
  },
  {
   "cell_type": "code",
   "execution_count": 14,
   "metadata": {},
   "outputs": [],
   "source": [
    "var = sumZ/(25000-1)"
   ]
  },
  {
   "cell_type": "code",
   "execution_count": 15,
   "metadata": {},
   "outputs": [],
   "source": [
    "stddevZ = np.sqrt(var)"
   ]
  },
  {
   "cell_type": "code",
   "execution_count": 16,
   "metadata": {},
   "outputs": [
    {
     "data": {
      "text/plain": [
       "4.9790773855061108"
      ]
     },
     "execution_count": 16,
     "metadata": {},
     "output_type": "execute_result"
    }
   ],
   "source": [
    "stddevZ"
   ]
  },
  {
   "cell_type": "code",
   "execution_count": null,
   "metadata": {
    "collapsed": true
   },
   "outputs": [],
   "source": []
  },
  {
   "cell_type": "markdown",
   "metadata": {
    "collapsed": true
   },
   "source": [
    "# Question4"
   ]
  },
  {
   "cell_type": "code",
   "execution_count": 17,
   "metadata": {
    "collapsed": true
   },
   "outputs": [],
   "source": [
    "x2d = np.random.multivariate_normal((-5,5), np.matrix([[20, .8],[.8, 30]]), 10000)"
   ]
  },
  {
   "cell_type": "code",
   "execution_count": 18,
   "metadata": {},
   "outputs": [
    {
     "data": {
      "image/png": "[encoded data removed]",
      "text/plain": [
       "<matplotlib.figure.Figure at 0x11c648890>"
      ]
     },
     "metadata": {},
     "output_type": "display_data"
    }
   ],
   "source": [
    "plt.imshow(x2d, interpolation=\"nearest\", origin=\"upper\")\n",
    "plt.colorbar()\n",
    "plt.show()"
   ]
  },
  {
   "cell_type": "code",
   "execution_count": 19,
   "metadata": {},
   "outputs": [
    {
     "data": {
      "text/plain": [
       "array([[  0.75617979,   8.91860192],\n",
       "       [ -6.45995743,   3.24284614],\n",
       "       [-10.38314347,  -0.97831153],\n",
       "       ..., \n",
       "       [-14.42957612,  18.87772172],\n",
       "       [ -9.12100657,   2.82538867],\n",
       "       [ -9.71520475,   7.01078867]])"
      ]
     },
     "execution_count": 19,
     "metadata": {},
     "output_type": "execute_result"
    }
   ],
   "source": [
    "x2d"
   ]
  },
  {
   "cell_type": "code",
   "execution_count": 20,
   "metadata": {},
   "outputs": [
    {
     "data": {
      "text/plain": [
       "array([-4.99316943,  4.98532566])"
      ]
     },
     "execution_count": 20,
     "metadata": {},
     "output_type": "execute_result"
    }
   ],
   "source": [
    "np.mean(x2d, axis=0)"
   ]
  },
  {
   "cell_type": "code",
   "execution_count": 21,
   "metadata": {
    "collapsed": true
   },
   "outputs": [],
   "source": [
    "mean2d = np.sum(x2d,axis=0)/10000"
   ]
  },
  {
   "cell_type": "code",
   "execution_count": 22,
   "metadata": {},
   "outputs": [
    {
     "data": {
      "text/plain": [
       "array([ 5.74934922, -1.466788  , -5.38997404, ..., -9.43640669,\n",
       "       -4.12783714, -4.72203532])"
      ]
     },
     "execution_count": 22,
     "metadata": {},
     "output_type": "execute_result"
    }
   ],
   "source": [
    "x2d[:,0]-  mean2d[0]"
   ]
  },
  {
   "cell_type": "code",
   "execution_count": 23,
   "metadata": {},
   "outputs": [
    {
     "data": {
      "text/plain": [
       "20.219353454716959"
      ]
     },
     "execution_count": 23,
     "metadata": {},
     "output_type": "execute_result"
    }
   ],
   "source": [
    "np.sum(np.square(x2d[:,0]-  mean2d[0]))/10000"
   ]
  },
  {
   "cell_type": "code",
   "execution_count": null,
   "metadata": {
    "collapsed": true
   },
   "outputs": [],
   "source": []
  }
 ],
 "metadata": {
  "kernelspec": {
   "display_name": "Python 2",
   "language": "python",
   "name": "python2"
  },
  "language_info": {
   "codemirror_mode": {
    "name": "ipython",
    "version": 2
   },
   "file_extension": ".py",
   "mimetype": "text/x-python",
   "name": "python",
   "nbconvert_exporter": "python",
   "pygments_lexer": "ipython2",
   "version": "2.7.13"
  }
 },
 "nbformat": 4,
 "nbformat_minor": 2
}
